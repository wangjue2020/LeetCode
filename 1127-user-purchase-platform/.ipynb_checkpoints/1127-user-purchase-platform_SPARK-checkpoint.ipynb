{
 "cells": [
  {
   "cell_type": "code",
   "execution_count": 2,
   "id": "ac3f16c6",
   "metadata": {},
   "outputs": [],
   "source": [
    "import pandas as pd\n",
    "d = {\"headers\":{\"Spending\":[\"user_id\",\"spend_date\",\"platform\",\"amount\"]},\"rows\":{\"Spending\":[[1,\"2019-07-01\",\"mobile\",100],[1,\"2019-07-01\",\"desktop\",100],[2,\"2019-07-01\",\"mobile\",100],[2,\"2019-07-02\",\"mobile\",100],[3,\"2019-07-01\",\"desktop\",100],[3,\"2019-07-02\",\"desktop\",100]]}}\n",
    "pd.DataFrame(d['rows']['Spending'], columns=d['headers']['Spending']).to_csv(\"./Spending.txt\", index=None)"
   ]
  },
  {
   "cell_type": "code",
   "execution_count": 3,
   "id": "ef90ecb0",
   "metadata": {},
   "outputs": [],
   "source": [
    "from pyspark.sql import SparkSession\n",
    "spark = SparkSession.builder.appName(\"user purchase platform\").config(\"pyspark.sql.shuffle.partition\",\"4\").getOrCreate()"
   ]
  },
  {
   "cell_type": "code",
   "execution_count": 4,
   "id": "fa30d2f6",
   "metadata": {},
   "outputs": [
    {
     "name": "stderr",
     "output_type": "stream",
     "text": [
      "                                                                                \r"
     ]
    },
    {
     "name": "stdout",
     "output_type": "stream",
     "text": [
      "root\n",
      " |-- user_id: integer (nullable = true)\n",
      " |-- spend_date: date (nullable = true)\n",
      " |-- platform: string (nullable = true)\n",
      " |-- amount: integer (nullable = true)\n",
      "\n",
      "+-------+----------+--------+------+\n",
      "|user_id|spend_date|platform|amount|\n",
      "+-------+----------+--------+------+\n",
      "|      1|2019-07-01|  mobile|   100|\n",
      "|      1|2019-07-01| desktop|   100|\n",
      "|      2|2019-07-01|  mobile|   100|\n",
      "|      2|2019-07-02|  mobile|   100|\n",
      "|      3|2019-07-01| desktop|   100|\n",
      "|      3|2019-07-02| desktop|   100|\n",
      "+-------+----------+--------+------+\n",
      "\n"
     ]
    }
   ],
   "source": [
    "s = spark.read.option(\"header\", True).csv(\"./Spending.txt\")\n",
    "s = s.withColumn(\"user_id\", s.user_id.cast('int')).withColumn(\"spend_date\", s.spend_date.cast('date')).withColumn(\"amount\", s.amount.cast('int'))\n",
    "s.printSchema()\n",
    "s.show()"
   ]
  },
  {
   "cell_type": "markdown",
   "id": "db808d31",
   "metadata": {},
   "source": [
    "Write an SQL query to find the total number of users and the total amount spent using the mobile only, the desktop only, and both mobile and desktop together for each date.\n",
    "\n",
    "Return the result table in any order.\n",
    "\n",
    "The query result format is in the following example."
   ]
  },
  {
   "cell_type": "code",
   "execution_count": 30,
   "id": "2a8aa883",
   "metadata": {},
   "outputs": [
    {
     "name": "stdout",
     "output_type": "stream",
     "text": [
      "+--------+\n",
      "|platform|\n",
      "+--------+\n",
      "| desktop|\n",
      "|  mobile|\n",
      "|    both|\n",
      "+--------+\n",
      "\n",
      "+----------+--------+\n",
      "|spend_date|platform|\n",
      "+----------+--------+\n",
      "|2019-07-02| desktop|\n",
      "|2019-07-01| desktop|\n",
      "|2019-07-02|  mobile|\n",
      "|2019-07-01|  mobile|\n",
      "|2019-07-02|    both|\n",
      "|2019-07-01|    both|\n",
      "+----------+--------+\n",
      "\n"
     ]
    }
   ],
   "source": [
    "from pyspark.sql import Row\n",
    "platform_rdd = sc.parallelize(['desktop', 'mobile', 'both'])\n",
    "platform_rdd = platform_rdd.map(lambda x : Row(platform=x))\n",
    "\n",
    "platform_df = spark.createDataFrame(platform_rdd)\n",
    "platform_df.show()\n",
    "\n",
    "spend_date_platform_df = s.select(\"spend_date\").distinct().join(platform_df)\n",
    "spend_date_platform_df.show()"
   ]
  },
  {
   "cell_type": "code",
   "execution_count": 38,
   "id": "0d1b95fa",
   "metadata": {},
   "outputs": [
    {
     "name": "stdout",
     "output_type": "stream",
     "text": [
      "+----------+--------+-----+-----------+\n",
      "|spend_date|platform|count|sum(amount)|\n",
      "+----------+--------+-----+-----------+\n",
      "|2019-07-02| desktop|    1|        100|\n",
      "|2019-07-01| desktop|    1|        100|\n",
      "|2019-07-02|  mobile|    1|        100|\n",
      "|2019-07-01|  mobile|    1|        100|\n",
      "|2019-07-02|    both|    0|          0|\n",
      "|2019-07-01|    both|    1|        200|\n",
      "+----------+--------+-----+-----------+\n",
      "\n"
     ]
    }
   ],
   "source": [
    "from pyspark.sql.functions import lit\n",
    "# users spend on 1 platform\n",
    "users_spend_date_1_platform = s.select(\"user_id\", \"spend_date\", \"platform\").groupBy(\"user_id\",\"spend_date\").count().withColumnRenamed(\"count\", \"num_platform\").where(\"num_platform =1\").select(\"user_id\", \"spend_date\")\n",
    "users_spend_date_2_platform = s.select(\"user_id\", \"spend_date\", \"platform\").groupBy(\"user_id\",\"spend_date\").count().withColumnRenamed(\"count\", \"num_platform\").where(\"num_platform =2\").select(\"user_id\", \"spend_date\")\n",
    "\n",
    "date_platform_joined = s.join(users_spend_date_1_platform, ['user_id', 'spend_date'], 'inner')\n",
    "platform_1_total_users = date_platform_joined.groupBy(\"spend_date\", \"platform\").count()\n",
    "platform_1_total_amount = date_platform_joined.groupBy(\"spend_date\", \"platform\").sum(\"amount\")\n",
    "platform1 = platform_1_total_users.join(platform_1_total_amount, ['spend_date', 'platform'],'leftouter')\n",
    "\n",
    "date_platform_joined2 = s.join(users_spend_date_2_platform, ['user_id', 'spend_date'], 'inner')\n",
    "platform_2_total_users = date_platform_joined2.select(\"spend_date\", \"user_id\").distinct().groupBy(\"spend_date\").count()\n",
    "platform_2_total_amount = date_platform_joined2.groupBy(\"spend_date\").sum('amount')\n",
    "platform2 = platform_2_total_users.join(platform_2_total_amount, ['spend_date'],'leftouter').select(\"spend_date\", lit('both').alias('platform'), \"count\", \"sum(amount)\")\n",
    "\n",
    "merged = platform1.union(platform2)\n",
    "spend_date_platform_df.join(merged, ['spend_date', 'platform'], 'leftouter').na.fill(0).show()"
   ]
  }
 ],
 "metadata": {
  "kernelspec": {
   "display_name": "Python 3 (ipykernel)",
   "language": "python",
   "name": "python3"
  },
  "language_info": {
   "codemirror_mode": {
    "name": "ipython",
    "version": 3
   },
   "file_extension": ".py",
   "mimetype": "text/x-python",
   "name": "python",
   "nbconvert_exporter": "python",
   "pygments_lexer": "ipython3",
   "version": "3.9.7"
  }
 },
 "nbformat": 4,
 "nbformat_minor": 5
}
