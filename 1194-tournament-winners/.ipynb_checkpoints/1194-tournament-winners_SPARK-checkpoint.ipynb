{
 "cells": [
  {
   "cell_type": "code",
   "execution_count": 1,
   "id": "fa3e406b",
   "metadata": {},
   "outputs": [],
   "source": [
    "import pandas as pd\n",
    "d = {\"headers\":{\"Players\":[\"player_id\",\"group_id\"],\"Matches\":[\"match_id\",\"first_player\",\"second_player\",\"first_score\",\"second_score\"]},\"rows\":{\"Players\":[[10,0],[15,1],[20,1],[25,1],[30,0],[35,0],[40,0],[45,1],[50,0],[55,1],[60,0],[65,0]],\"Matches\":[[1,10,30,2,1],[2,10,35,6,3],[3,10,40,6,0],[4,10,50,8,10],[5,10,60,10,9],[6,10,65,0,0],[7,30,35,9,10],[8,30,40,1,0],[9,30,50,9,2],[10,30,60,9,8],[11,30,65,0,1],[12,35,40,5,8],[13,35,50,9,1],[14,35,60,4,0],[15,35,65,1,1],[16,40,50,8,5],[17,40,60,7,4],[18,40,65,2,7],[19,50,60,0,10],[20,50,65,6,7],[21,60,65,8,5],[22,15,20,4,9],[23,15,25,8,8],[24,15,45,7,1],[25,15,55,6,0],[26,20,25,5,0],[27,20,45,6,0],[28,20,55,8,8],[29,25,45,9,10],[30,25,55,4,6],[31,45,55,8,0]]}}\n",
    "pd.DataFrame(d['rows']['Players'], columns=d['headers']['Players']).to_csv(\"./Players.txt\", index=None)\n",
    "pd.DataFrame(d['rows']['Matches'], columns=d['headers']['Matches']).to_csv(\"./Matches.txt\", index=None)\n"
   ]
  },
  {
   "cell_type": "code",
   "execution_count": 2,
   "id": "1723c9a2",
   "metadata": {},
   "outputs": [],
   "source": [
    "from pyspark.sql import SparkSession\n",
    "spark = SparkSession.builder.appName(\"tournament winners\").config(\"pyspark.sql.shuffle.partition\", \"4\").getOrCreate()"
   ]
  },
  {
   "cell_type": "code",
   "execution_count": 6,
   "id": "2aefeae3",
   "metadata": {},
   "outputs": [
    {
     "name": "stdout",
     "output_type": "stream",
     "text": [
      "root\n",
      " |-- player_id: integer (nullable = true)\n",
      " |-- group_id: integer (nullable = true)\n",
      "\n",
      "root\n",
      " |-- match_id: integer (nullable = true)\n",
      " |-- first_player: integer (nullable = true)\n",
      " |-- second_player: integer (nullable = true)\n",
      " |-- first_score: integer (nullable = true)\n",
      " |-- second_score: integer (nullable = true)\n",
      "\n",
      "+---------+--------+\n",
      "|player_id|group_id|\n",
      "+---------+--------+\n",
      "|       10|       0|\n",
      "|       15|       1|\n",
      "|       20|       1|\n",
      "|       25|       1|\n",
      "|       30|       0|\n",
      "|       35|       0|\n",
      "|       40|       0|\n",
      "|       45|       1|\n",
      "|       50|       0|\n",
      "|       55|       1|\n",
      "|       60|       0|\n",
      "|       65|       0|\n",
      "+---------+--------+\n",
      "\n",
      "+--------+------------+-------------+-----------+------------+\n",
      "|match_id|first_player|second_player|first_score|second_score|\n",
      "+--------+------------+-------------+-----------+------------+\n",
      "|       1|          10|           30|          2|           1|\n",
      "|       2|          10|           35|          6|           3|\n",
      "|       3|          10|           40|          6|           0|\n",
      "|       4|          10|           50|          8|          10|\n",
      "|       5|          10|           60|         10|           9|\n",
      "|       6|          10|           65|          0|           0|\n",
      "|       7|          30|           35|          9|          10|\n",
      "|       8|          30|           40|          1|           0|\n",
      "|       9|          30|           50|          9|           2|\n",
      "|      10|          30|           60|          9|           8|\n",
      "|      11|          30|           65|          0|           1|\n",
      "|      12|          35|           40|          5|           8|\n",
      "|      13|          35|           50|          9|           1|\n",
      "|      14|          35|           60|          4|           0|\n",
      "|      15|          35|           65|          1|           1|\n",
      "|      16|          40|           50|          8|           5|\n",
      "|      17|          40|           60|          7|           4|\n",
      "|      18|          40|           65|          2|           7|\n",
      "|      19|          50|           60|          0|          10|\n",
      "|      20|          50|           65|          6|           7|\n",
      "+--------+------------+-------------+-----------+------------+\n",
      "only showing top 20 rows\n",
      "\n"
     ]
    }
   ],
   "source": [
    "p = spark.read.option(\"header\", True).csv(\"./Players.txt\")\n",
    "m = spark.read.option(\"header\", True).csv(\"./Matches.txt\")\n",
    "for i in p.columns:\n",
    "    p = p.withColumn(i, p[i].cast(\"int\"))\n",
    "p.printSchema()\n",
    "for i in m.columns:\n",
    "    m = m.withColumn(i, m[i].cast(\"int\"))\n",
    "m.printSchema()\n",
    "p.show()\n",
    "m.show()"
   ]
  },
  {
   "cell_type": "markdown",
   "id": "854d6164",
   "metadata": {},
   "source": [
    "The winner in each group is the player who scored the maximum total points within the group. In the case of a tie, the lowest player_id wins.\n",
    "\n",
    "Write an SQL query to find the winner in each group.\n",
    "\n",
    "Return the result table in any order.\n",
    "\n",
    "The query result format is in the following example."
   ]
  },
  {
   "cell_type": "code",
   "execution_count": 10,
   "id": "861143ba",
   "metadata": {},
   "outputs": [
    {
     "name": "stderr",
     "output_type": "stream",
     "text": [
      "[Stage 19:======================================>                 (51 + 8) / 75]\r"
     ]
    },
    {
     "name": "stdout",
     "output_type": "stream",
     "text": [
      "+--------+---------+\n",
      "|group_id|player_id|\n",
      "+--------+---------+\n",
      "|       1|       20|\n",
      "|       0|       60|\n",
      "+--------+---------+\n",
      "\n"
     ]
    },
    {
     "name": "stderr",
     "output_type": "stream",
     "text": [
      "\r",
      "[Stage 19:============================================>           (59 + 8) / 75]\r",
      "\r",
      "                                                                                \r"
     ]
    }
   ],
   "source": [
    "f = m.select(m.first_player.alias(\"player_id\"), m.first_score.alias(\"score\"))\n",
    "scores_group = m.select(m.second_player.alias(\"player_id\"), m.second_score.alias(\"score\")).unionAll(f).groupBy(\"player_id\").sum(\"score\").withColumnRenamed(\"sum(score)\",\"score\").join(p, \"player_id\", \"rightouter\")\n",
    "\n",
    "from pyspark.sql.window import Window\n",
    "from pyspark.sql.functions import row_number, col\n",
    "\n",
    "window_spec = Window.partitionBy(\"group_id\").orderBy(col(\"score\").desc(), \"player_id\")\n",
    "scores_group.select(\"*\", row_number().over(window_spec).alias(\"rn\")).where(col(\"rn\") == 1).select(\"group_id\",\"player_id\").show()"
   ]
  }
 ],
 "metadata": {
  "kernelspec": {
   "display_name": "Python 3 (ipykernel)",
   "language": "python",
   "name": "python3"
  },
  "language_info": {
   "codemirror_mode": {
    "name": "ipython",
    "version": 3
   },
   "file_extension": ".py",
   "mimetype": "text/x-python",
   "name": "python",
   "nbconvert_exporter": "python",
   "pygments_lexer": "ipython3",
   "version": "3.9.7"
  }
 },
 "nbformat": 4,
 "nbformat_minor": 5
}
