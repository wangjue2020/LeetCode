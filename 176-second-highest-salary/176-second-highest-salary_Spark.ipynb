{
 "cells": [
  {
   "cell_type": "code",
   "execution_count": 4,
   "id": "19663482",
   "metadata": {},
   "outputs": [],
   "source": [
    "import pandas as pd\n",
    "from pyspark.sql import SparkSession"
   ]
  },
  {
   "cell_type": "code",
   "execution_count": 48,
   "id": "2828042f",
   "metadata": {},
   "outputs": [],
   "source": [
    "# \"Employee\":[\"id\",\"salary\"]},\"rows\":{\"Employee\":[[1,100],[2,200],[3,300]]\n",
    "pd.DataFrame([[1,100],[2,200],[3,200],[4,300]], columns=[\"id\",\"salary\"]).to_csv(\"./Employee.txt\", index=None)"
   ]
  },
  {
   "cell_type": "code",
   "execution_count": 7,
   "id": "5d9d583b",
   "metadata": {},
   "outputs": [],
   "source": [
    "spark = SparkSession.builder.\\\n",
    "        appName('local[*]').\\\n",
    "        config(\"spark.sql.shuffle.partition\",\"4\").\\\n",
    "        getOrCreate()"
   ]
  },
  {
   "cell_type": "code",
   "execution_count": 49,
   "id": "e3e5ab73",
   "metadata": {},
   "outputs": [
    {
     "name": "stdout",
     "output_type": "stream",
     "text": [
      "+---+------+\n",
      "| id|salary|\n",
      "+---+------+\n",
      "|  1|   100|\n",
      "|  2|   200|\n",
      "|  3|   200|\n",
      "|  4|   300|\n",
      "+---+------+\n",
      "\n"
     ]
    }
   ],
   "source": [
    "employee = spark.read.option(\"header\", True).csv(\"./Employee.txt\")\n",
    "employee.show()"
   ]
  },
  {
   "cell_type": "markdown",
   "id": "f57af46a",
   "metadata": {},
   "source": [
    "Write an SQL query to report the second highest salary from the Employee table. If there is no second highest salary, the query should report null.\n"
   ]
  },
  {
   "cell_type": "code",
   "execution_count": 71,
   "id": "03fc5998",
   "metadata": {},
   "outputs": [],
   "source": [
    "from pyspark.sql.window import Window\t\n",
    "\n",
    "from pyspark.sql.functions import rank\t\n",
    "\n",
    "from pyspark.sql.functions import row_number, col\n",
    "\n",
    "def pipeline(df):\n",
    "    Window_Spec  = Window.orderBy(col(\"salary\").desc())\t\n",
    "\n",
    "\n",
    "    df.withColumn(\"row_number\",row_number().over(Window_Spec))\\\n",
    "            .show(truncate=False)\n",
    "\n",
    "\n",
    "    # Defining rank() function\n",
    "\n",
    "    e = df.withColumn(\"rank\",rank().over(Window_Spec))\n",
    "    e = e.select(e['salary'].alias(\"second highest salary\")).where(e.rank==2).distinct()\n",
    "    e.select(\"second highest salary\").show()\n"
   ]
  },
  {
   "cell_type": "code",
   "execution_count": 67,
   "id": "03e38c50",
   "metadata": {},
   "outputs": [
    {
     "name": "stderr",
     "output_type": "stream",
     "text": [
      "22/07/08 23:28:06 WARN WindowExec: No Partition Defined for Window operation! Moving all data to a single partition, this can cause serious performance degradation.\n"
     ]
    },
    {
     "name": "stdout",
     "output_type": "stream",
     "text": [
      "+---+------+----------+\n",
      "|id |salary|row_number|\n",
      "+---+------+----------+\n",
      "|4  |300   |1         |\n",
      "|2  |200   |2         |\n",
      "|3  |200   |3         |\n",
      "|1  |100   |4         |\n",
      "+---+------+----------+\n",
      "\n"
     ]
    },
    {
     "name": "stderr",
     "output_type": "stream",
     "text": [
      "22/07/08 23:28:06 WARN WindowExec: No Partition Defined for Window operation! Moving all data to a single partition, this can cause serious performance degradation.\n"
     ]
    },
    {
     "name": "stdout",
     "output_type": "stream",
     "text": [
      "+---------------------+\n",
      "|second highest salary|\n",
      "+---------------------+\n",
      "|                  200|\n",
      "+---------------------+\n",
      "\n"
     ]
    }
   ],
   "source": [
    "pipeline(employee)"
   ]
  },
  {
   "cell_type": "code",
   "execution_count": 72,
   "id": "f856d8c2",
   "metadata": {},
   "outputs": [
    {
     "name": "stdout",
     "output_type": "stream",
     "text": [
      "+---+------+\n",
      "| id|salary|\n",
      "+---+------+\n",
      "|  1|   100|\n",
      "+---+------+\n",
      "\n"
     ]
    },
    {
     "name": "stderr",
     "output_type": "stream",
     "text": [
      "22/07/08 23:29:43 WARN WindowExec: No Partition Defined for Window operation! Moving all data to a single partition, this can cause serious performance degradation.\n"
     ]
    },
    {
     "name": "stdout",
     "output_type": "stream",
     "text": [
      "+---+------+----------+\n",
      "|id |salary|row_number|\n",
      "+---+------+----------+\n",
      "|1  |100   |1         |\n",
      "+---+------+----------+\n",
      "\n"
     ]
    },
    {
     "name": "stderr",
     "output_type": "stream",
     "text": [
      "22/07/08 23:29:43 WARN WindowExec: No Partition Defined for Window operation! Moving all data to a single partition, this can cause serious performance degradation.\n"
     ]
    },
    {
     "name": "stdout",
     "output_type": "stream",
     "text": [
      "+---------------------+\n",
      "|second highest salary|\n",
      "+---------------------+\n",
      "+---------------------+\n",
      "\n"
     ]
    }
   ],
   "source": [
    "pd.DataFrame([[1,100]], columns=[\"id\",\"salary\"]).to_csv(\"./Employee1.txt\", index=None)\n",
    "employee1 = spark.read.option(\"header\", True).csv(\"./Employee1.txt\")\n",
    "employee1.show()\n",
    "pipeline(employee1)"
   ]
  }
 ],
 "metadata": {
  "kernelspec": {
   "display_name": "Python 3 (ipykernel)",
   "language": "python",
   "name": "python3"
  },
  "language_info": {
   "codemirror_mode": {
    "name": "ipython",
    "version": 3
   },
   "file_extension": ".py",
   "mimetype": "text/x-python",
   "name": "python",
   "nbconvert_exporter": "python",
   "pygments_lexer": "ipython3",
   "version": "3.9.7"
  }
 },
 "nbformat": 4,
 "nbformat_minor": 5
}
