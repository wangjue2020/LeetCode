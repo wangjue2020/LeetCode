{
 "cells": [
  {
   "cell_type": "code",
   "execution_count": 1,
   "id": "74837cdc",
   "metadata": {},
   "outputs": [],
   "source": [
    "import pandas as pd"
   ]
  },
  {
   "cell_type": "code",
   "execution_count": 10,
   "id": "cc42fd05",
   "metadata": {},
   "outputs": [],
   "source": [
    "# address = [[1,2,\"New York City\",\"New York\"],[2,3,\"Leetcode\",\"California\"]]\n",
    "# address = pd.DataFrame(address, columns=[\"addressId\",\"personId\",\"city\",\"state\"])\n",
    "# address.to_csv(\"./Address.txt\", index=None)\n",
    "\n",
    "# person = [[1,\"Wang\",\"Allen\"],[2,\"Alice\",\"Bob\"]]\n",
    "# person = pd.DataFrame(person, columns=[\"personId\",\"lastName\",\"firstName\"])\n",
    "# person.to_csv(\"./Person.txt\", index=None)"
   ]
  },
  {
   "cell_type": "code",
   "execution_count": 7,
   "id": "618e592e",
   "metadata": {},
   "outputs": [],
   "source": [
    "from pyspark.sql import SparkSession\n",
    "\n",
    "spark = SparkSession.builder.\\\n",
    "    appName(\"local[*]\").\\\n",
    "    config(\"spark.sql.shuffle.partition\", \"4\").\\\n",
    "    getOrCreate()"
   ]
  },
  {
   "cell_type": "code",
   "execution_count": 13,
   "id": "632d327e",
   "metadata": {},
   "outputs": [
    {
     "name": "stdout",
     "output_type": "stream",
     "text": [
      "+--------+--------+---------+\n",
      "|personId|lastName|firstName|\n",
      "+--------+--------+---------+\n",
      "|       1|    Wang|    Allen|\n",
      "|       2|   Alice|      Bob|\n",
      "+--------+--------+---------+\n",
      "\n"
     ]
    }
   ],
   "source": [
    "person = spark.read.option(\"header\",True).csv(\"./Person.txt\")\n",
    "person.show()"
   ]
  },
  {
   "cell_type": "code",
   "execution_count": 14,
   "id": "f65db4d0",
   "metadata": {},
   "outputs": [
    {
     "name": "stdout",
     "output_type": "stream",
     "text": [
      "+---------+--------+-------------+----------+\n",
      "|addressId|personId|         city|     state|\n",
      "+---------+--------+-------------+----------+\n",
      "|        1|       2|New York City|  New York|\n",
      "|        2|       3|     Leetcode|California|\n",
      "+---------+--------+-------------+----------+\n",
      "\n"
     ]
    }
   ],
   "source": [
    "address = spark.read.option(\"header\", True).csv(\"./Address.txt\")\n",
    "address.show()"
   ]
  },
  {
   "cell_type": "markdown",
   "id": "11c535b4",
   "metadata": {},
   "source": [
    "Write an SQL query to report the first name, last name, city, and state of each person in the Person table. If the address of a personId is not present in the Address table, report null instead.\n",
    "\n",
    "Return the result table in any order.\n",
    "\n",
    "The query result format is in the following example.\n",
    "\n"
   ]
  },
  {
   "cell_type": "code",
   "execution_count": 17,
   "id": "6c43e63e",
   "metadata": {},
   "outputs": [
    {
     "name": "stdout",
     "output_type": "stream",
     "text": [
      "+---------+--------+-------------+--------+\n",
      "|firstName|lastName|         city|   state|\n",
      "+---------+--------+-------------+--------+\n",
      "|    Allen|    Wang|         null|    null|\n",
      "|      Bob|   Alice|New York City|New York|\n",
      "+---------+--------+-------------+--------+\n",
      "\n"
     ]
    }
   ],
   "source": [
    "person.join(address, person.personId==address.personId, \"leftouter\").select(\"firstName\", \"lastName\", \"city\", \"state\").show()"
   ]
  }
 ],
 "metadata": {
  "kernelspec": {
   "display_name": "Python 3 (ipykernel)",
   "language": "python",
   "name": "python3"
  },
  "language_info": {
   "codemirror_mode": {
    "name": "ipython",
    "version": 3
   },
   "file_extension": ".py",
   "mimetype": "text/x-python",
   "name": "python",
   "nbconvert_exporter": "python",
   "pygments_lexer": "ipython3",
   "version": "3.9.7"
  }
 },
 "nbformat": 4,
 "nbformat_minor": 5
}
