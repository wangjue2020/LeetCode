{
 "cells": [
  {
   "cell_type": "code",
   "execution_count": 1,
   "id": "9eca82f6",
   "metadata": {},
   "outputs": [],
   "source": [
    "import pandas as pd\n",
    "# {\"headers\": {\"Employee\": [\"id\", \"name\", \"salary\", \"departmentId\"], \"Department\": [\"id\", \"name\"]}, \"rows\": \n",
    "#  {\"Employee\": [[1, \"Joe\", 85000, 1], [2, \"Henry\", 80000, 2], [3, \"Sam\", 60000, 2], [4, \"Max\", 90000, 1], [5, \"Janet\", 69000, 1], [6, \"Randy\", 85000, 1], [7, \"Will\", 70000, 1]],\n",
    "#   \"Department\": [[1, \"IT\"], [2, \"Sales\"]]}}\n",
    "pd.DataFrame([[1, \"Joe\", 85000, 1], [2, \"Henry\", 80000, 2], [3, \"Sam\", 60000, 2], [4, \"Max\", 90000, 1], [5, \"Janet\", 69000, 1], [6, \"Randy\", 85000, 1], [7, \"Will\", 70000, 1]], columns=[\"id\", \"name\", \"salary\", \"departmentId\"]).to_csv(\"./Employee.txt\", index=None)\n",
    "pd.DataFrame([[1, \"IT\"], [2, \"Sales\"]], columns = [\"id\", \"name\"]).to_csv(\"./Department.txt\", index=None)"
   ]
  },
  {
   "cell_type": "code",
   "execution_count": 2,
   "id": "cc54c1c3",
   "metadata": {},
   "outputs": [],
   "source": [
    "from pyspark.sql import SparkSession\n",
    "spark = SparkSession.builder.appName(\"department top three salaries\").config(\"pyspark.sql.shuffle.partition\", \"4\").getOrCreate()"
   ]
  },
  {
   "cell_type": "code",
   "execution_count": 4,
   "id": "7b4e9284",
   "metadata": {},
   "outputs": [
    {
     "name": "stdout",
     "output_type": "stream",
     "text": [
      "+---+-----+------+------------+\n",
      "| id| name|salary|departmentId|\n",
      "+---+-----+------+------------+\n",
      "|  1|  Joe| 85000|           1|\n",
      "|  2|Henry| 80000|           2|\n",
      "|  3|  Sam| 60000|           2|\n",
      "|  4|  Max| 90000|           1|\n",
      "|  5|Janet| 69000|           1|\n",
      "|  6|Randy| 85000|           1|\n",
      "|  7| Will| 70000|           1|\n",
      "+---+-----+------+------------+\n",
      "\n",
      "+---+-----+\n",
      "| id| name|\n",
      "+---+-----+\n",
      "|  1|   IT|\n",
      "|  2|Sales|\n",
      "+---+-----+\n",
      "\n"
     ]
    }
   ],
   "source": [
    "e = spark.read.option(\"header\", True).csv(\"./Employee.txt\")\n",
    "d = spark.read.option(\"header\", True).csv(\"./Department.txt\")\n",
    "e.show()\n",
    "d.show()"
   ]
  },
  {
   "cell_type": "markdown",
   "id": "0d97dbd7",
   "metadata": {},
   "source": [
    "A company's executives are interested in seeing who earns the most money in each of the company's departments. A high earner in a department is an employee who has a salary in the top three unique salaries for that department.\n",
    "\n",
    "Write an SQL query to find the employees who are high earners in each of the departments.\n",
    "\n",
    "Return the result table in any order.\n",
    "\n",
    "The query result format is in the following example."
   ]
  },
  {
   "cell_type": "code",
   "execution_count": 16,
   "id": "ef898f20",
   "metadata": {},
   "outputs": [
    {
     "name": "stdout",
     "output_type": "stream",
     "text": [
      "+----------+--------+------+\n",
      "|Department|Employee|salary|\n",
      "+----------+--------+------+\n",
      "|        IT|     Max| 90000|\n",
      "|        IT|     Joe| 85000|\n",
      "|        IT|   Randy| 85000|\n",
      "|        IT|    Will| 70000|\n",
      "|     Sales|   Henry| 80000|\n",
      "|     Sales|     Sam| 60000|\n",
      "+----------+--------+------+\n",
      "\n"
     ]
    }
   ],
   "source": [
    "from pyspark.sql.window import Window\n",
    "from pyspark.sql.functions import dense_rank, col\n",
    "\n",
    "window_spec = Window.partitionBy(\"departmentId\").orderBy(col(\"salary\").desc())\n",
    "e.select(\"*\", dense_rank().over(window_spec).alias(\"rank\")).where(\"rank <= 3\").join(d, e.departmentId==d.id).select(d.name.alias(\"Department\"), e.name.alias(\"Employee\"), e.salary).show()"
   ]
  }
 ],
 "metadata": {
  "kernelspec": {
   "display_name": "Python 3 (ipykernel)",
   "language": "python",
   "name": "python3"
  },
  "language_info": {
   "codemirror_mode": {
    "name": "ipython",
    "version": 3
   },
   "file_extension": ".py",
   "mimetype": "text/x-python",
   "name": "python",
   "nbconvert_exporter": "python",
   "pygments_lexer": "ipython3",
   "version": "3.9.7"
  }
 },
 "nbformat": 4,
 "nbformat_minor": 5
}
