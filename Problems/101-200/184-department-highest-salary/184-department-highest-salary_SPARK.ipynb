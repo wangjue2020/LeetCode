{
 "cells": [
  {
   "cell_type": "code",
   "execution_count": 1,
   "id": "1d902f55",
   "metadata": {},
   "outputs": [],
   "source": [
    "# {\"headers\": {\"Employee\": [\"id\", \"name\", \"salary\", \"departmentId\"], \"Department\": [\"id\", \"name\"]}, \n",
    "# \"rows\": {\"Employee\": [[1, \"Joe\", 70000, 1], [2, \"Jim\", 90000, 1], [3, \"Henry\", 80000, 2], [4, \"Sam\", 60000, 2], [5, \"Max\", 90000, 1]], \n",
    "# \"Department\": [[1, \"IT\"], [2, \"Sales\"]]}}\n",
    "import pandas as pd\n",
    "pd.DataFrame([[1, \"Joe\", 70000, 1], [2, \"Jim\", 90000, 1], [3, \"Henry\", 80000, 2], [4, \"Sam\", 60000, 2], [5, \"Max\", 90000, 1]], columns= [\"id\", \"name\", \"salary\", \"departmentId\"]).to_csv(\"./Employee.txt\", index=None)\n",
    "pd.DataFrame([[1, \"IT\"], [2, \"Sales\"]], columns=[\"id\", \"name\"]).to_csv(\"./Department.txt\", index=None)"
   ]
  },
  {
   "cell_type": "code",
   "execution_count": 2,
   "id": "34e0aefc",
   "metadata": {},
   "outputs": [],
   "source": [
    "from pyspark.sql import SparkSession\n",
    "spark = SparkSession.builder\n",
    "        .appName(\"department highest salary\")\n",
    "        .config(\"pyspark.sql.shuffle.partition\", \"4\")\n",
    "        .getOrCreate()"
   ]
  },
  {
   "cell_type": "code",
   "execution_count": 9,
   "id": "c4841414",
   "metadata": {},
   "outputs": [
    {
     "name": "stdout",
     "output_type": "stream",
     "text": [
      "+---+-----+------+------------+\n",
      "| id| name|salary|departmentId|\n",
      "+---+-----+------+------------+\n",
      "|  1|  Joe| 70000|           1|\n",
      "|  2|  Jim| 90000|           1|\n",
      "|  3|Henry| 80000|           2|\n",
      "|  4|  Sam| 60000|           2|\n",
      "|  5|  Max| 90000|           1|\n",
      "+---+-----+------+------------+\n",
      "\n",
      "+---+-----+\n",
      "| id| name|\n",
      "+---+-----+\n",
      "|  1|   IT|\n",
      "|  2|Sales|\n",
      "+---+-----+\n",
      "\n"
     ]
    }
   ],
   "source": [
    "e = spark.read.option(\"header\", True).csv(\"./Employee.txt\")\n",
    "d = spark.read.option(\"header\", True).csv(\"./Department.txt\")\n",
    "e.show()\n",
    "d.show()"
   ]
  },
  {
   "cell_type": "markdown",
   "id": "3d7adf37",
   "metadata": {},
   "source": [
    "Write an SQL query to find employees who have the highest salary in each of the departments.\n",
    "\n",
    "Return the result table in any order.\n",
    "\n",
    "The query result format is in the following example"
   ]
  },
  {
   "cell_type": "code",
   "execution_count": 10,
   "id": "e00dc521",
   "metadata": {},
   "outputs": [],
   "source": [
    "e = e.withColumn(\"salary\", e.salary.cast(\"int\"))"
   ]
  },
  {
   "cell_type": "code",
   "execution_count": 32,
   "id": "b72fee8d",
   "metadata": {},
   "outputs": [
    {
     "name": "stdout",
     "output_type": "stream",
     "text": [
      "+----------+-------------+------+\n",
      "|Department|Employee_name|Salary|\n",
      "+----------+-------------+------+\n",
      "|        IT|          Jim| 90000|\n",
      "|     Sales|        Henry| 80000|\n",
      "|        IT|          Max| 90000|\n",
      "+----------+-------------+------+\n",
      "\n"
     ]
    }
   ],
   "source": [
    "tmp = e.groupBy(\"departmentId\")\\\n",
    "    .max(\"salary\")\\\n",
    "    .withColumnRenamed(\"max(salary)\", \"max_salary\")\\\n",
    "    .join(e, \"departmentId\",\"rightouter\")\\\n",
    "    .where(\"max_salary = salary\")\\\n",
    "    .withColumnRenamed(\"name\", \"Employee_name\")\n",
    "tmp.join(d, tmp.departmentId==d.id, \"inner\").select(d.name.alias(\"Department\"), \"Employee_name\", \"Salary\").show()"
   ]
  }
 ],
 "metadata": {
  "kernelspec": {
   "display_name": "Python 3 (ipykernel)",
   "language": "python",
   "name": "python3"
  },
  "language_info": {
   "codemirror_mode": {
    "name": "ipython",
    "version": 3
   },
   "file_extension": ".py",
   "mimetype": "text/x-python",
   "name": "python",
   "nbconvert_exporter": "python",
   "pygments_lexer": "ipython3",
   "version": "3.9.7"
  }
 },
 "nbformat": 4,
 "nbformat_minor": 5
}
