{
 "cells": [
  {
   "cell_type": "code",
   "execution_count": 5,
   "id": "67e8e17d",
   "metadata": {},
   "outputs": [],
   "source": [
    "import pandas as pd\n",
    "# {\"headers\": {\"Logs\": [\"id\", \"num\"]}, \"rows\": {\"Logs\": [[1, 1], [2, 1], [3, 1], [4, 2], [5, 1], [6, 2], [7, 2]]}}\n",
    "pd.DataFrame([[1, 1], [2, 1], [3, 1], [4, 2], [5, 1], [6, 2], [7, 2]],columns=[\"id\", \"num\"]).to_csv(\"./Logs.txt\", index=None)"
   ]
  },
  {
   "cell_type": "code",
   "execution_count": 4,
   "id": "122c7f7a",
   "metadata": {},
   "outputs": [],
   "source": [
    "from pyspark.sql import SparkSession\n",
    "spark = SparkSession.builder.appName(\"180 consecutive_numbers\").config(\"pyspark.sql.shuffle.partition\", \"4\").getOrCreate()"
   ]
  },
  {
   "cell_type": "code",
   "execution_count": 6,
   "id": "5f06b2db",
   "metadata": {},
   "outputs": [
    {
     "name": "stderr",
     "output_type": "stream",
     "text": [
      "                                                                                \r"
     ]
    },
    {
     "name": "stdout",
     "output_type": "stream",
     "text": [
      "+---+---+\n",
      "| id|num|\n",
      "+---+---+\n",
      "|  1|  1|\n",
      "|  2|  1|\n",
      "|  3|  1|\n",
      "|  4|  2|\n",
      "|  5|  1|\n",
      "|  6|  2|\n",
      "|  7|  2|\n",
      "+---+---+\n",
      "\n"
     ]
    }
   ],
   "source": [
    "logs = spark.read.option(\"header\", True).csv(\"./Logs.txt\")\n",
    "logs.show()"
   ]
  },
  {
   "cell_type": "markdown",
   "id": "b126df93",
   "metadata": {},
   "source": [
    "Write an SQL query to find all numbers that appear at least three times consecutively.\n",
    "\n",
    "Return the result table in any order.\n",
    "\n",
    "The query result format is in the following example.\n",
    "\n"
   ]
  },
  {
   "cell_type": "code",
   "execution_count": 68,
   "id": "57dbb84d",
   "metadata": {},
   "outputs": [
    {
     "name": "stdout",
     "output_type": "stream",
     "text": [
      "+---------------+\n",
      "|consecutiveNums|\n",
      "+---------------+\n",
      "|              1|\n",
      "+---------------+\n",
      "\n"
     ]
    }
   ],
   "source": [
    "\n",
    "logs1 = logs.alias(\"logs1\")\n",
    "logs1 = logs1.withColumnRenamed(\"id\", \"id1\")\n",
    "logs2 = logs.alias(\"logs2\")\n",
    "logs2 = logs2.withColumnRenamed(\"id\", \"id2\")\n",
    "logs.join(logs1,\"num\",\"leftouter\").join(logs2,\"num\",\"leftouter\").where(\"id+1=id1 and id1+1=id2\").select(\"num\").withColumnRenamed(\"num\", \"consecutiveNums\").show()"
   ]
  }
 ],
 "metadata": {
  "kernelspec": {
   "display_name": "Python 3 (ipykernel)",
   "language": "python",
   "name": "python3"
  },
  "language_info": {
   "codemirror_mode": {
    "name": "ipython",
    "version": 3
   },
   "file_extension": ".py",
   "mimetype": "text/x-python",
   "name": "python",
   "nbconvert_exporter": "python",
   "pygments_lexer": "ipython3",
   "version": "3.9.7"
  }
 },
 "nbformat": 4,
 "nbformat_minor": 5
}
