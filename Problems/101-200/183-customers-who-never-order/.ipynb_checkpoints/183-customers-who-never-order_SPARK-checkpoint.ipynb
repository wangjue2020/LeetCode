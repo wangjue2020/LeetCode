{
 "cells": [
  {
   "cell_type": "code",
   "execution_count": 2,
   "id": "997ff79b",
   "metadata": {},
   "outputs": [],
   "source": [
    "import pandas as pd\n",
    "# {\"headers\": {\"Customers\": [\"id\", \"name\"], \"Orders\": [\"id\", \"customerId\"]}, \"rows\": {\"Customers\": [[1, \"Joe\"], [2, \"Henry\"], [3, \"Sam\"], [4, \"Max\"]], \"Orders\": [[1, 3], [2, 1]]}}\n",
    "pd.DataFrame([[1, \"Joe\"], [2, \"Henry\"], [3, \"Sam\"], [4, \"Max\"]],columns=[\"id\", \"name\"]).to_csv(\"./Customers.txt\", index=None)\n",
    "pd.DataFrame( [[1, 3], [2, 1]], columns= [\"id\", \"customerId\"]).to_csv(\"./Orders.txt\", index=None)"
   ]
  },
  {
   "cell_type": "code",
   "execution_count": 3,
   "id": "8d247286",
   "metadata": {},
   "outputs": [],
   "source": [
    "from pyspark.sql import SparkSession\n",
    "spark = SparkSession.builder.appName(\"customer who never order\").config(\"pyspark.sql.shuffle.partition\", \"4\").getOrCreate()"
   ]
  },
  {
   "cell_type": "code",
   "execution_count": 4,
   "id": "3b0b7485",
   "metadata": {},
   "outputs": [
    {
     "name": "stderr",
     "output_type": "stream",
     "text": [
      "                                                                                \r"
     ]
    },
    {
     "name": "stdout",
     "output_type": "stream",
     "text": [
      "+---+-----+\n",
      "| id| name|\n",
      "+---+-----+\n",
      "|  1|  Joe|\n",
      "|  2|Henry|\n",
      "|  3|  Sam|\n",
      "|  4|  Max|\n",
      "+---+-----+\n",
      "\n",
      "+---+----------+\n",
      "| id|customerId|\n",
      "+---+----------+\n",
      "|  1|         3|\n",
      "|  2|         1|\n",
      "+---+----------+\n",
      "\n"
     ]
    }
   ],
   "source": [
    "customers = spark.read.option(\"header\", True).csv(\"./Customers.txt\")\n",
    "orders = spark.read.option(\"header\", True).csv(\"./Orders.txt\")\n",
    "customers.show()\n",
    "orders.show()"
   ]
  },
  {
   "cell_type": "markdown",
   "id": "4b94e04e",
   "metadata": {},
   "source": [
    "Write an SQL query to report all customers who never order anything.\n",
    "\n",
    "Return the result table in any order.\n",
    "\n",
    "The query result format is in the following example."
   ]
  },
  {
   "cell_type": "code",
   "execution_count": 6,
   "id": "f526b52f",
   "metadata": {},
   "outputs": [
    {
     "name": "stdout",
     "output_type": "stream",
     "text": [
      "+---------+\n",
      "|Customers|\n",
      "+---------+\n",
      "|    Henry|\n",
      "|      Max|\n",
      "+---------+\n",
      "\n"
     ]
    }
   ],
   "source": [
    "customers.join(orders, customers.id==orders.customerId,\"leftouter\").select(\"name\").where(\"customerId is null\").withColumnRenamed(\"name\", \"Customers\").show()"
   ]
  }
 ],
 "metadata": {
  "kernelspec": {
   "display_name": "Python 3 (ipykernel)",
   "language": "python",
   "name": "python3"
  },
  "language_info": {
   "codemirror_mode": {
    "name": "ipython",
    "version": 3
   },
   "file_extension": ".py",
   "mimetype": "text/x-python",
   "name": "python",
   "nbconvert_exporter": "python",
   "pygments_lexer": "ipython3",
   "version": "3.9.7"
  }
 },
 "nbformat": 4,
 "nbformat_minor": 5
}
