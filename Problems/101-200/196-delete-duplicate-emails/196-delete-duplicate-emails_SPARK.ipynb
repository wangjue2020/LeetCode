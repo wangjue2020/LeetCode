{
 "cells": [
  {
   "cell_type": "code",
   "execution_count": 1,
   "id": "e165ef7e",
   "metadata": {},
   "outputs": [],
   "source": [
    "# {\"headers\": {\"Person\": [\"id\", \"email\"]}, \n",
    "# \"rows\": {\"Person\": [[1, \"john@example.com\"], [2, \"bob@example.com\"], [3, \"john@example.com\"]]}}\n",
    "import pandas as pd\n",
    "pd.DataFrame([[1, \"john@example.com\"], [2, \"bob@example.com\"], [3, \"john@example.com\"]], columns=[\"id\", \"email\"]).to_csv(\"./Person.txt\", index=None)"
   ]
  },
  {
   "cell_type": "code",
   "execution_count": 2,
   "id": "49a9635f",
   "metadata": {},
   "outputs": [],
   "source": [
    "from pyspark.sql import SparkSession\n",
    "spark = SparkSession.builder.appName(\"delete duplicate emails\")\\\n",
    "        .config(\"pyspark.sql.shuffle.partition\", \"4\")\\\n",
    "        .getOrCreate()"
   ]
  },
  {
   "cell_type": "code",
   "execution_count": 47,
   "id": "d437bc27",
   "metadata": {},
   "outputs": [
    {
     "name": "stdout",
     "output_type": "stream",
     "text": [
      "+---+----------------+\n",
      "| id|           email|\n",
      "+---+----------------+\n",
      "|  1|john@example.com|\n",
      "|  2| bob@example.com|\n",
      "|  3|john@example.com|\n",
      "+---+----------------+\n",
      "\n"
     ]
    }
   ],
   "source": [
    "p = spark.read.option(\"header\", True).csv(\"./Person.txt\")\n",
    "p.show()"
   ]
  },
  {
   "cell_type": "markdown",
   "id": "134c8f48",
   "metadata": {},
   "source": [
    "Write an SQL query to delete all the duplicate emails, keeping only one unique email with the smallest id. Note that you are supposed to write a DELETE statement and not a SELECT one.\n",
    "\n",
    "After running your script, the answer shown is the Person table. The driver will first compile and run your piece of code and then show the Person table. The final order of the Person table does not matter.\n",
    "\n",
    "The query result format is in the following example.\n",
    "\n"
   ]
  },
  {
   "cell_type": "code",
   "execution_count": 54,
   "id": "6dd78353",
   "metadata": {},
   "outputs": [
    {
     "name": "stdout",
     "output_type": "stream",
     "text": [
      "+---+\n",
      "| id|\n",
      "+---+\n",
      "|  3|\n",
      "+---+\n",
      "\n",
      "+----+----------------+----+\n",
      "|id_p|           email|  id|\n",
      "+----+----------------+----+\n",
      "|   1|john@example.com|null|\n",
      "|   2| bob@example.com|null|\n",
      "+----+----------------+----+\n",
      "\n"
     ]
    }
   ],
   "source": [
    "p1 = p\n",
    "should_delete = p.withColumnRenamed(\"id\", \"id1\").join(p1,\"email\").where(\"id>id1 \").select(\"id\")\n",
    "should_delete.show()\n",
    "p2 = p.withColumnRenamed(\"id\", \"id_p\")\n",
    "p2.join(should_delete, p2.id_p==should_delete.id, \"left_outer\").where(\"id is null\").show()\n",
    "# p2.show()\n",
    "# should_delete.show()"
   ]
  }
 ],
 "metadata": {
  "kernelspec": {
   "display_name": "Python 3 (ipykernel)",
   "language": "python",
   "name": "python3"
  },
  "language_info": {
   "codemirror_mode": {
    "name": "ipython",
    "version": 3
   },
   "file_extension": ".py",
   "mimetype": "text/x-python",
   "name": "python",
   "nbconvert_exporter": "python",
   "pygments_lexer": "ipython3",
   "version": "3.9.7"
  }
 },
 "nbformat": 4,
 "nbformat_minor": 5
}
