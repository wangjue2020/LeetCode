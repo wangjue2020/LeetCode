{
 "cells": [
  {
   "cell_type": "code",
   "execution_count": 1,
   "id": "6de6454e",
   "metadata": {},
   "outputs": [],
   "source": [
    "import pandas as pd\n",
    "# {\"headers\": {\"Person\": [\"id\", \"email\"]}, \"rows\": {\"Person\": [[1, \"a@b.com\"], [2, \"c@d.com\"], [3, \"a@b.com\"]]}}\n",
    "pd.DataFrame([[1, \"a@b.com\"], [2, \"c@d.com\"], [3, \"a@b.com\"]], columns=[\"id\", \"email\"]).to_csv(\"./Person.txt\", index=None)"
   ]
  },
  {
   "cell_type": "code",
   "execution_count": 2,
   "id": "a462937c",
   "metadata": {},
   "outputs": [],
   "source": [
    "from pyspark.sql import SparkSession\n",
    "spark = SparkSession.builder.appName(\"duplicate emails\").config(\"pyspark.sql.shuffle.partition\",\"4\").getOrCreate()"
   ]
  },
  {
   "cell_type": "code",
   "execution_count": 3,
   "id": "64130040",
   "metadata": {},
   "outputs": [
    {
     "name": "stderr",
     "output_type": "stream",
     "text": [
      "                                                                                \r"
     ]
    },
    {
     "name": "stdout",
     "output_type": "stream",
     "text": [
      "+---+-------+\n",
      "| id|  email|\n",
      "+---+-------+\n",
      "|  1|a@b.com|\n",
      "|  2|c@d.com|\n",
      "|  3|a@b.com|\n",
      "+---+-------+\n",
      "\n"
     ]
    }
   ],
   "source": [
    "person = spark.read.option(\"header\", True).csv(\"./Person.txt\")\n",
    "person.show()"
   ]
  },
  {
   "cell_type": "markdown",
   "id": "4851208a",
   "metadata": {},
   "source": [
    "Write an SQL query to report all the duplicate emails.\n",
    "\n",
    "Return the result table in any order.\n",
    "\n",
    "The query result format is in the following example."
   ]
  },
  {
   "cell_type": "code",
   "execution_count": 12,
   "id": "2d15c6c9",
   "metadata": {},
   "outputs": [
    {
     "name": "stdout",
     "output_type": "stream",
     "text": [
      "+-------+-----+\n",
      "|  email|count|\n",
      "+-------+-----+\n",
      "|a@b.com|    2|\n",
      "+-------+-----+\n",
      "\n"
     ]
    }
   ],
   "source": [
    "person.groupBy(\"email\").count().where(\"count >1\").show()\n"
   ]
  }
 ],
 "metadata": {
  "kernelspec": {
   "display_name": "Python 3 (ipykernel)",
   "language": "python",
   "name": "python3"
  },
  "language_info": {
   "codemirror_mode": {
    "name": "ipython",
    "version": 3
   },
   "file_extension": ".py",
   "mimetype": "text/x-python",
   "name": "python",
   "nbconvert_exporter": "python",
   "pygments_lexer": "ipython3",
   "version": "3.9.7"
  }
 },
 "nbformat": 4,
 "nbformat_minor": 5
}
