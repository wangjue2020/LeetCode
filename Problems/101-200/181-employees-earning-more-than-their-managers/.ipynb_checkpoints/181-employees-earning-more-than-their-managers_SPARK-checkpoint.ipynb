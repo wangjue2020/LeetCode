{
 "cells": [
  {
   "cell_type": "code",
   "execution_count": 4,
   "id": "caa996ef",
   "metadata": {},
   "outputs": [],
   "source": [
    "import pandas as pd\n",
    "# {\"headers\": {\"Employee\": [\"id\", \"name\", \"salary\", \"managerId\"]}, \"rows\": {\"Employee\": [[1, \"Joe\", 70000, 3], [2, \"Henry\", 80000, 4], [3, \"Sam\", 60000, null], [4, \"Max\", 90000, null]]}}\n",
    "pd.DataFrame([[1, \"Joe\", 70000, 3], [2, \"Henry\", 80000, 4], [3, \"Sam\", 60000], [4, \"Max\", 90000]],columns=[\"id\", \"name\", \"salary\", \"managerId\"] ).to_csv(\"./Employee.txt\", index=None)"
   ]
  },
  {
   "cell_type": "code",
   "execution_count": 5,
   "id": "47233f5b",
   "metadata": {},
   "outputs": [],
   "source": [
    "from pyspark.sql import SparkSession\n",
    "spark = SparkSession.builder.appName(\"employee earning more than their managers\").config(\"pyspark.sql.shuffle.parition\",\"4\").getOrCreate()"
   ]
  },
  {
   "cell_type": "code",
   "execution_count": 29,
   "id": "459fa2e0",
   "metadata": {},
   "outputs": [
    {
     "name": "stdout",
     "output_type": "stream",
     "text": [
      "+---+-----+------+---------+\n",
      "| id| name|salary|managerId|\n",
      "+---+-----+------+---------+\n",
      "|  1|  Joe| 70000|        3|\n",
      "|  2|Henry| 80000|        4|\n",
      "|  3|  Sam| 60000|     null|\n",
      "|  4|  Max| 90000|     null|\n",
      "+---+-----+------+---------+\n",
      "\n"
     ]
    }
   ],
   "source": [
    "emp = spark.read.option(\"header\", True).csv(\"./Employee.txt\")\n",
    "emp = emp.withColumn(\"managerId\",emp.managerId.cast(\"int\"))\n",
    "emp.show()"
   ]
  },
  {
   "cell_type": "markdown",
   "id": "d194d29e",
   "metadata": {},
   "source": [
    "Write an SQL query to find the employees who earn more than their managers.\n",
    "\n",
    "Return the result table in any order.\n",
    "\n",
    "The query result format is in the following example."
   ]
  },
  {
   "cell_type": "code",
   "execution_count": 30,
   "id": "12a56b19",
   "metadata": {},
   "outputs": [
    {
     "name": "stdout",
     "output_type": "stream",
     "text": [
      "+---------+--------------+\n",
      "|managerId|manager_salary|\n",
      "+---------+--------------+\n",
      "|        1|         70000|\n",
      "|        2|         80000|\n",
      "|        3|         60000|\n",
      "|        4|         90000|\n",
      "+---------+--------------+\n",
      "\n"
     ]
    }
   ],
   "source": [
    "emp1 = emp.select(\"id\",\"salary\").withColumnRenamed(\"id\", \"managerId\").withColumnRenamed(\"salary\", \"manager_salary\")\n",
    "emp1.show()"
   ]
  },
  {
   "cell_type": "code",
   "execution_count": 34,
   "id": "2510debc",
   "metadata": {},
   "outputs": [
    {
     "name": "stdout",
     "output_type": "stream",
     "text": [
      "+---+----+\n",
      "| id|name|\n",
      "+---+----+\n",
      "|  1| Joe|\n",
      "+---+----+\n",
      "\n"
     ]
    }
   ],
   "source": [
    "emp1.join(emp, \"managerId\",\"leftouter\").where(\"manager_salary < salary\").select(\"id\", \"name\").show()"
   ]
  }
 ],
 "metadata": {
  "kernelspec": {
   "display_name": "Python 3 (ipykernel)",
   "language": "python",
   "name": "python3"
  },
  "language_info": {
   "codemirror_mode": {
    "name": "ipython",
    "version": 3
   },
   "file_extension": ".py",
   "mimetype": "text/x-python",
   "name": "python",
   "nbconvert_exporter": "python",
   "pygments_lexer": "ipython3",
   "version": "3.9.7"
  }
 },
 "nbformat": 4,
 "nbformat_minor": 5
}
