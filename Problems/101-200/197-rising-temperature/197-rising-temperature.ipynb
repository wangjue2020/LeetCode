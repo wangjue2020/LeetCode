{
 "cells": [
  {
   "cell_type": "code",
   "execution_count": 1,
   "id": "c41880a4",
   "metadata": {},
   "outputs": [],
   "source": [
    "import pandas as pd\n",
    "# {\"headers\": {\"Weather\": [\"id\", \"recordDate\", \"temperature\"]}, \n",
    "# \"rows\": {\"Weather\": [[1, \"2015-01-01\", 10], [2, \"2015-01-02\", 25], [3, \"2015-01-03\", 20], [4, \"2015-01-04\", 30]]}}\n",
    "pd.DataFrame([[1, \"2015-01-01\", 10], [2, \"2015-01-02\", 25], [3, \"2015-01-03\", 20], [4, \"2015-01-04\", 30]], columns=[\"id\", \"recordDate\", \"temperature\"]).to_csv(\"./Weather.txt\", index=None)"
   ]
  },
  {
   "cell_type": "code",
   "execution_count": 2,
   "id": "e6a68be2",
   "metadata": {},
   "outputs": [],
   "source": [
    "from pyspark.sql import SparkSession\n",
    "spark = SparkSession.builder.appName(\"rising temperature\").config(\"pyspark.sql.shuffle.partition\", \"4\").getOrCreate()"
   ]
  },
  {
   "cell_type": "code",
   "execution_count": 3,
   "id": "a661358e",
   "metadata": {},
   "outputs": [
    {
     "name": "stderr",
     "output_type": "stream",
     "text": [
      "                                                                                \r"
     ]
    },
    {
     "name": "stdout",
     "output_type": "stream",
     "text": [
      "+---+----------+-----------+\n",
      "| id|recordDate|temperature|\n",
      "+---+----------+-----------+\n",
      "|  1|2015-01-01|         10|\n",
      "|  2|2015-01-02|         25|\n",
      "|  3|2015-01-03|         20|\n",
      "|  4|2015-01-04|         30|\n",
      "+---+----------+-----------+\n",
      "\n"
     ]
    }
   ],
   "source": [
    "w = spark.read.option(\"header\", True).csv(\"./Weather.txt\")\n",
    "w.show()"
   ]
  },
  {
   "cell_type": "markdown",
   "id": "37d33c6e",
   "metadata": {},
   "source": [
    "Write an SQL query to find all dates' Id with higher temperatures compared to its previous dates (yesterday).\n",
    "\n",
    "Return the result table in any order.\n",
    "\n",
    "The query result format is in the following example."
   ]
  },
  {
   "cell_type": "code",
   "execution_count": 16,
   "id": "4c532fcb",
   "metadata": {},
   "outputs": [
    {
     "name": "stdout",
     "output_type": "stream",
     "text": [
      "root\n",
      " |-- id: string (nullable = true)\n",
      " |-- recordDate: string (nullable = true)\n",
      " |-- temperature: string (nullable = true)\n",
      "\n",
      "root\n",
      " |-- id: string (nullable = true)\n",
      " |-- recordDate: date (nullable = true)\n",
      " |-- temperature: string (nullable = true)\n",
      "\n"
     ]
    }
   ],
   "source": [
    "w.printSchema()\n",
    "w=w.withColumn(\"recordDate\", w.recordDate.cast(\"date\"))\n",
    "w.printSchema()"
   ]
  },
  {
   "cell_type": "code",
   "execution_count": 29,
   "id": "6c3f7be6",
   "metadata": {},
   "outputs": [
    {
     "name": "stdout",
     "output_type": "stream",
     "text": [
      "+----+------------+-------------+\n",
      "|id_1|recordDate_1|temperature_1|\n",
      "+----+------------+-------------+\n",
      "|   1|  2015-01-01|           10|\n",
      "|   2|  2015-01-02|           25|\n",
      "|   3|  2015-01-03|           20|\n",
      "|   4|  2015-01-04|           30|\n",
      "+----+------------+-------------+\n",
      "\n"
     ]
    }
   ],
   "source": [
    "\n",
    "def changeColumnName(w, n):\n",
    "    for i in w.columns:\n",
    "        w = w.withColumnRenamed(i, i+f\"_{n}\")\n",
    "    return w\n",
    "w1 = changeColumnName(w, 1)\n",
    "w1.show()"
   ]
  },
  {
   "cell_type": "code",
   "execution_count": 30,
   "id": "9ab3eeaf",
   "metadata": {},
   "outputs": [
    {
     "name": "stdout",
     "output_type": "stream",
     "text": [
      "+---+\n",
      "| id|\n",
      "+---+\n",
      "|  2|\n",
      "|  4|\n",
      "+---+\n",
      "\n"
     ]
    }
   ],
   "source": [
    "from pyspark.sql.functions import datediff\n",
    "\n",
    "# w1 = w.withColumnRenamed(\"recordDate\", \"rd\").withColumnRenamed(\"temperature\",\"t\").withColumnRenamed(\"id\", \"i\")\n",
    "w.join(w1).where(datediff(w.recordDate, w1.recordDate_1)==1).where(w1.temperature_1<w.temperature ).select(\"id\").show()"
   ]
  }
 ],
 "metadata": {
  "kernelspec": {
   "display_name": "Python 3 (ipykernel)",
   "language": "python",
   "name": "python3"
  },
  "language_info": {
   "codemirror_mode": {
    "name": "ipython",
    "version": 3
   },
   "file_extension": ".py",
   "mimetype": "text/x-python",
   "name": "python",
   "nbconvert_exporter": "python",
   "pygments_lexer": "ipython3",
   "version": "3.9.7"
  }
 },
 "nbformat": 4,
 "nbformat_minor": 5
}
