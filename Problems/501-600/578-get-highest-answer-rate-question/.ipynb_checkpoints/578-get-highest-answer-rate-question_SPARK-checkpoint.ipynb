{
 "cells": [
  {
   "cell_type": "code",
   "execution_count": 3,
   "id": "f7b469c0",
   "metadata": {},
   "outputs": [],
   "source": [
    "import pandas as pd\n",
    "d = {\"headers\": {\"SurveyLog\": [\"id\", \"action\", \"question_id\", \"answer_id\", \"q_num\", \"timestamp\"]},\"rows\": {\"SurveyLog\": [[5, \"show\", 285, None, 1, 123], [5, \"answer\", 285, 124124, 1, 124], [5, \"show\", 369, None, 2, 125], [5, \"skip\", 369, None, 2, 126]]}}\n",
    "pd.DataFrame(d['rows']['SurveyLog'], columns=d['headers']['SurveyLog']).to_csv(\"./SurveyLog.txt\", index=None)"
   ]
  },
  {
   "cell_type": "code",
   "execution_count": 4,
   "id": "843277b1",
   "metadata": {},
   "outputs": [],
   "source": [
    "from pyspark.sql import SparkSession\n",
    "spark = SparkSession.builder.appName(\"578\").config(\"pyspark.sql.shuffle.partition\",\"4\").getOrCreate()"
   ]
  },
  {
   "cell_type": "code",
   "execution_count": 5,
   "id": "ab293d9b",
   "metadata": {},
   "outputs": [
    {
     "name": "stderr",
     "output_type": "stream",
     "text": [
      "                                                                                \r"
     ]
    },
    {
     "name": "stdout",
     "output_type": "stream",
     "text": [
      "+---+------+-----------+---------+-----+---------+\n",
      "| id|action|question_id|answer_id|q_num|timestamp|\n",
      "+---+------+-----------+---------+-----+---------+\n",
      "|  5|  show|        285|     null|    1|      123|\n",
      "|  5|answer|        285| 124124.0|    1|      124|\n",
      "|  5|  show|        369|     null|    2|      125|\n",
      "|  5|  skip|        369|     null|    2|      126|\n",
      "+---+------+-----------+---------+-----+---------+\n",
      "\n"
     ]
    }
   ],
   "source": [
    "s = spark.read.option(\"header\", True).csv(\"./SurveyLog.txt\")\n",
    "s.show()"
   ]
  },
  {
   "cell_type": "markdown",
   "id": "f095e191",
   "metadata": {},
   "source": [
    "The answer rate for a question is the number of times a user answered the question by the number of times a user showed the question.\n",
    "\n",
    "Write an SQL query to report the question that has the highest answer rate. If multiple questions have the same maximum answer rate, report the question with the smallest question_id.\n",
    "\n",
    "The query result format is in the following example."
   ]
  },
  {
   "cell_type": "code",
   "execution_count": 23,
   "id": "12eb3302",
   "metadata": {},
   "outputs": [],
   "source": [
    "from pyspark.sql.functions import col\n",
    "answered = s.where(\"action = 'answer'\").select(\"question_id\").groupBy(\"question_id\").count().withColumnRenamed(\"count\",\"answer_count\")\n",
    "showed = s.where(\"action='show'\").select(\"question_id\").groupBy(\"question_id\").count().join(answered, \"question_id\", \"leftouter\").select(\"question_id\", (col(\"answer_count\")/col(\"count\")).alias(\"rate\")).orderBy(\"rate\", ascending=False)"
   ]
  },
  {
   "cell_type": "code",
   "execution_count": 24,
   "id": "c6fd71fa",
   "metadata": {},
   "outputs": [
    {
     "name": "stderr",
     "output_type": "stream",
     "text": [
      "\r",
      "[Stage 32:==================================================>   (186 + 9) / 200]\r",
      "\r",
      "                                                                                \r"
     ]
    },
    {
     "data": {
      "text/plain": [
       "Row(question_id='285', rate=1.0)"
      ]
     },
     "execution_count": 24,
     "metadata": {},
     "output_type": "execute_result"
    }
   ],
   "source": [
    "showed.first()"
   ]
  }
 ],
 "metadata": {
  "kernelspec": {
   "display_name": "Python 3 (ipykernel)",
   "language": "python",
   "name": "python3"
  },
  "language_info": {
   "codemirror_mode": {
    "name": "ipython",
    "version": 3
   },
   "file_extension": ".py",
   "mimetype": "text/x-python",
   "name": "python",
   "nbconvert_exporter": "python",
   "pygments_lexer": "ipython3",
   "version": "3.9.7"
  }
 },
 "nbformat": 4,
 "nbformat_minor": 5
}
