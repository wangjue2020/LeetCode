{
 "cells": [
  {
   "cell_type": "code",
   "execution_count": 2,
   "id": "512a3362",
   "metadata": {},
   "outputs": [],
   "source": [
    "import pandas as pd\n",
    "d = {\"headers\":{\"Employee\":[\"empId\",\"name\",\"supervisor\",\"salary\"],\"Bonus\":[\"empId\",\"bonus\"]},\"rows\":{\"Employee\":[[3,\"Brad\",None,4000],[1,\"John\",3,1000],[2,\"Dan\",3,2000],[4,\"Thomas\",3,4000]],\"Bonus\":[[2,500],[4,2000]]}}\n",
    "pd.DataFrame(d['rows']['Employee'], columns=d['headers']['Employee']).to_csv(\"./Employee.txt\", index=None)\n",
    "pd.DataFrame(d['rows']['Bonus'], columns=d['headers']['Bonus']).to_csv(\"./Bonus.txt\", index=None)\n"
   ]
  },
  {
   "cell_type": "code",
   "execution_count": 3,
   "id": "c7f0da27",
   "metadata": {},
   "outputs": [],
   "source": [
    "from pyspark.sql import SparkSession\n",
    "spark = SparkSession.builder.appName(\"employee bonus\").config(\"pyspark.sql.shuffle.partition\",\"4\").getOrCreate()"
   ]
  },
  {
   "cell_type": "code",
   "execution_count": 4,
   "id": "d03a095d",
   "metadata": {},
   "outputs": [
    {
     "name": "stderr",
     "output_type": "stream",
     "text": [
      "                                                                                \r"
     ]
    },
    {
     "name": "stdout",
     "output_type": "stream",
     "text": [
      "+-----+------+----------+------+\n",
      "|empId|  name|supervisor|salary|\n",
      "+-----+------+----------+------+\n",
      "|    3|  Brad|      null|  4000|\n",
      "|    1|  John|       3.0|  1000|\n",
      "|    2|   Dan|       3.0|  2000|\n",
      "|    4|Thomas|       3.0|  4000|\n",
      "+-----+------+----------+------+\n",
      "\n",
      "+-----+-----+\n",
      "|empId|bonus|\n",
      "+-----+-----+\n",
      "|    2|  500|\n",
      "|    4| 2000|\n",
      "+-----+-----+\n",
      "\n"
     ]
    }
   ],
   "source": [
    "e = spark.read.option(\"header\", True).csv(\"./Employee.txt\")\n",
    "b = spark.read.option(\"header\", True).csv(\"./Bonus.txt\")\n",
    "e.show()\n",
    "b.show()"
   ]
  },
  {
   "cell_type": "markdown",
   "id": "0ea29834",
   "metadata": {},
   "source": [
    "Write an SQL query to report the name and bonus amount of each employee with a bonus less than 1000.\n",
    "\n",
    "Return the result table in any order.\n",
    "\n",
    "The query result format is in the following example."
   ]
  },
  {
   "cell_type": "code",
   "execution_count": 5,
   "id": "0ecd8dad",
   "metadata": {},
   "outputs": [
    {
     "name": "stdout",
     "output_type": "stream",
     "text": [
      "+-----+----+----------+------+-----+\n",
      "|empId|name|supervisor|salary|bonus|\n",
      "+-----+----+----------+------+-----+\n",
      "|    3|Brad|      null|  4000| null|\n",
      "|    1|John|       3.0|  1000| null|\n",
      "|    2| Dan|       3.0|  2000|  500|\n",
      "+-----+----+----------+------+-----+\n",
      "\n"
     ]
    }
   ],
   "source": [
    "e.join(b,\"empId\", \"leftouter\").where(\"bonus is null or bonus < 1000\").show()"
   ]
  }
 ],
 "metadata": {
  "kernelspec": {
   "display_name": "Python 3 (ipykernel)",
   "language": "python",
   "name": "python3"
  },
  "language_info": {
   "codemirror_mode": {
    "name": "ipython",
    "version": 3
   },
   "file_extension": ".py",
   "mimetype": "text/x-python",
   "name": "python",
   "nbconvert_exporter": "python",
   "pygments_lexer": "ipython3",
   "version": "3.9.7"
  }
 },
 "nbformat": 4,
 "nbformat_minor": 5
}
