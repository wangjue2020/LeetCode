{
 "cells": [
  {
   "cell_type": "code",
   "execution_count": 1,
   "id": "22181001",
   "metadata": {},
   "outputs": [],
   "source": [
    "import pandas as pd\n",
    "d = {\"headers\":{\"Activity\":[\"player_id\",\"device_id\",\"event_date\",\"games_played\"]},\"rows\":{\"Activity\":[[1,2,\"2016-03-01\",5],[1,2,\"2016-05-02\",6],[1,3,\"2017-06-25\",1],[3,1,\"2016-03-02\",0],[3,4,\"2018-07-03\",5]]}}\n",
    "pd.DataFrame(d['rows']['Activity'], columns=d['headers']['Activity']).to_csv(\"./Activity.txt\", index=None)"
   ]
  },
  {
   "cell_type": "code",
   "execution_count": 2,
   "id": "358dd31e",
   "metadata": {},
   "outputs": [],
   "source": [
    "from pyspark.sql import SparkSession\n",
    "spark = SparkSession.builder.appName(\"534\").config(\"pyspark.sql.shuffle.partition\",\"4\").getOrCreate()"
   ]
  },
  {
   "cell_type": "code",
   "execution_count": 7,
   "id": "70e2157d",
   "metadata": {
    "scrolled": true
   },
   "outputs": [
    {
     "name": "stdout",
     "output_type": "stream",
     "text": [
      "+---------+---------+----------+------------+\n",
      "|player_id|device_id|event_date|games_played|\n",
      "+---------+---------+----------+------------+\n",
      "|        1|        2|2016-03-01|           5|\n",
      "|        1|        2|2016-05-02|           6|\n",
      "|        1|        3|2017-06-25|           1|\n",
      "|        3|        1|2016-03-02|           0|\n",
      "|        3|        4|2018-07-03|           5|\n",
      "+---------+---------+----------+------------+\n",
      "\n"
     ]
    }
   ],
   "source": [
    "a = spark.read.option(\"header\", True).csv(\"./Activity.txt\")\n",
    "a = a.withColumn(\"games_played\", a.games_played.cast(\"int\"))\n",
    "a.show()"
   ]
  },
  {
   "cell_type": "markdown",
   "id": "f88a6d0d",
   "metadata": {},
   "source": [
    "Write an SQL query to report for each player and date, how many games played so far by the player. That is, the total number of games played by the player until that date. Check the example for clarity.\n",
    "\n",
    "Return the result table in any order.\n",
    "\n",
    "The query result format is in the following example."
   ]
  },
  {
   "cell_type": "code",
   "execution_count": 10,
   "id": "af4208b3",
   "metadata": {},
   "outputs": [
    {
     "name": "stderr",
     "output_type": "stream",
     "text": [
      "[Stage 28:=========================================>            (154 + 8) / 200]\r"
     ]
    },
    {
     "name": "stdout",
     "output_type": "stream",
     "text": [
      "+---------+----------+-------------------+\n",
      "|player_id|event_date|sum(games_played_1)|\n",
      "+---------+----------+-------------------+\n",
      "|        1|2016-03-01|                  5|\n",
      "|        1|2016-05-02|                 11|\n",
      "|        1|2017-06-25|                 12|\n",
      "|        3|2016-03-02|                  0|\n",
      "|        3|2018-07-03|                  5|\n",
      "+---------+----------+-------------------+\n",
      "\n"
     ]
    },
    {
     "name": "stderr",
     "output_type": "stream",
     "text": [
      "\r",
      "[Stage 28:================================================>     (178 + 8) / 200]\r",
      "\r",
      "                                                                                \r"
     ]
    }
   ],
   "source": [
    "def addAlias(df, n):\n",
    "    for i in df.columns:\n",
    "        df=df.withColumnRenamed(i, f'{i}_{n}')\n",
    "    return df\n",
    "a1 = addAlias(a,1)\n",
    "\n",
    "a.join(a1, (a.player_id==a1.player_id_1) & (a.event_date>=a1.event_date_1), \"leftouter\").select(\"player_id\", \"event_date\", \"games_played_1\").groupBy(\"player_id\", \"event_date\").sum(\"games_played_1\").orderBy([\"player_id\", \"event_date\"], ascending =[True, True]).show()"
   ]
  }
 ],
 "metadata": {
  "kernelspec": {
   "display_name": "Python 3 (ipykernel)",
   "language": "python",
   "name": "python3"
  },
  "language_info": {
   "codemirror_mode": {
    "name": "ipython",
    "version": 3
   },
   "file_extension": ".py",
   "mimetype": "text/x-python",
   "name": "python",
   "nbconvert_exporter": "python",
   "pygments_lexer": "ipython3",
   "version": "3.9.7"
  }
 },
 "nbformat": 4,
 "nbformat_minor": 5
}
