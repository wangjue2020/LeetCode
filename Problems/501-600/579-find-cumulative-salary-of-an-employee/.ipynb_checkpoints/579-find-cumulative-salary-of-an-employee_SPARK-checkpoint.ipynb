{
 "cells": [
  {
   "cell_type": "code",
   "execution_count": 1,
   "id": "88c1552f",
   "metadata": {},
   "outputs": [],
   "source": [
    "import pandas as pd\n",
    "d = {\"headers\":{\"Employee\":[\"id\",\"month\",\"salary\"]},\"rows\":{\"Employee\":[[1,1,20],[2,1,20],[1,2,30],[2,2,30],[3,2,40],[1,3,40],[3,3,60],[1,4,60],[3,4,70],[1,7,90],[1,8,90]]}}\n",
    "pd.DataFrame(d['rows']['Employee'], columns=d['headers']['Employee']).to_csv(\"./Employee.txt\", index=None)"
   ]
  },
  {
   "cell_type": "code",
   "execution_count": 2,
   "id": "7bf4b5c9",
   "metadata": {},
   "outputs": [],
   "source": [
    "from pyspark.sql import SparkSession\n",
    "spark = SparkSession.builder.appName(\"find cumulative salary of an employee\")\\\n",
    "                    .config(\"pyspark.sql.shuffle.partition\", \"4\").getOrCreate()"
   ]
  },
  {
   "cell_type": "code",
   "execution_count": 10,
   "id": "5b09930c",
   "metadata": {},
   "outputs": [
    {
     "name": "stdout",
     "output_type": "stream",
     "text": [
      "+---+-----+------+\n",
      "| id|month|salary|\n",
      "+---+-----+------+\n",
      "|  1|    1|    20|\n",
      "|  2|    1|    20|\n",
      "|  1|    2|    30|\n",
      "|  2|    2|    30|\n",
      "|  3|    2|    40|\n",
      "|  1|    3|    40|\n",
      "|  3|    3|    60|\n",
      "|  1|    4|    60|\n",
      "|  3|    4|    70|\n",
      "|  1|    7|    90|\n",
      "|  1|    8|    90|\n",
      "+---+-----+------+\n",
      "\n"
     ]
    }
   ],
   "source": [
    "e = spark.read.option(\"header\", True).csv(\"./Employee.txt\")\n",
    "e =e.withColumn(\"salary\", e.salary.cast('int')).withColumn(\"id\", e.id.cast('int')).withColumn(\"month\", e.month.cast('int'))\n",
    "e.show()"
   ]
  },
  {
   "cell_type": "markdown",
   "id": "bc156442",
   "metadata": {},
   "source": [
    "Write an SQL query to calculate the cumulative salary summary for every employee in a single unified table.\n",
    "\n",
    "The cumulative salary summary for an employee can be calculated as follows:\n",
    "\n",
    "For each month that the employee worked, sum up the salaries in that month and the previous two months. This is their 3-month sum for that month. If an employee did not work for the company in previous months, their effective salary for those months is 0.\n",
    "Do not include the 3-month sum for the most recent month that the employee worked for in the summary.\n",
    "Do not include the 3-month sum for any month the employee did not work.\n",
    "Return the result table ordered by id in ascending order. In case of a tie, order it by month in descending order.\n",
    "\n",
    "The query result format is in the following example."
   ]
  },
  {
   "cell_type": "code",
   "execution_count": 22,
   "id": "3c56ee7e",
   "metadata": {},
   "outputs": [
    {
     "name": "stdout",
     "output_type": "stream",
     "text": [
      "root\n",
      " |-- id_1: integer (nullable = true)\n",
      " |-- month_1: integer (nullable = true)\n",
      " |-- salary_1: integer (nullable = true)\n",
      "\n",
      "+---+-----+------+\n",
      "| id|month|Salary|\n",
      "+---+-----+------+\n",
      "|  1|    7|    90|\n",
      "|  1|    4|   130|\n",
      "|  1|    3|    90|\n",
      "|  1|    2|    50|\n",
      "|  1|    1|    20|\n",
      "|  2|    1|    20|\n",
      "|  3|    3|   100|\n",
      "|  3|    2|    40|\n",
      "+---+-----+------+\n",
      "\n"
     ]
    }
   ],
   "source": [
    "def addAlias(df, n):\n",
    "    for i in df.columns:\n",
    "        df = df.withColumnRenamed(i, f'{i}_{n}')\n",
    "    return df\n",
    "e1 = addAlias(e,1)\n",
    "e1.printSchema()\n",
    "max_m = e.groupBy('id').max('month').withColumnRenamed('max(month)','max_month')\n",
    "e.join(e1, e.id==e1.id_1, 'leftouter')\\\n",
    "    .where(e.month >= e1.month_1)\\\n",
    "    .where((e.month-e1.month_1).between(0,2))\\\n",
    "    .groupBy('id','month')\\\n",
    "    .sum('salary_1')\\\n",
    "    .withColumnRenamed('sum(salary_1)', 'Salary')\\\n",
    "    .join(max_m, 'id','leftouter')\\\n",
    "    .where('month <> max_month')\\\n",
    "    .select('id', 'month', 'Salary')\\\n",
    "    .orderBy(['id','month'], ascending=[True,False])\\\n",
    "    .show()"
   ]
  }
 ],
 "metadata": {
  "kernelspec": {
   "display_name": "Python 3 (ipykernel)",
   "language": "python",
   "name": "python3"
  },
  "language_info": {
   "codemirror_mode": {
    "name": "ipython",
    "version": 3
   },
   "file_extension": ".py",
   "mimetype": "text/x-python",
   "name": "python",
   "nbconvert_exporter": "python",
   "pygments_lexer": "ipython3",
   "version": "3.9.7"
  }
 },
 "nbformat": 4,
 "nbformat_minor": 5
}
