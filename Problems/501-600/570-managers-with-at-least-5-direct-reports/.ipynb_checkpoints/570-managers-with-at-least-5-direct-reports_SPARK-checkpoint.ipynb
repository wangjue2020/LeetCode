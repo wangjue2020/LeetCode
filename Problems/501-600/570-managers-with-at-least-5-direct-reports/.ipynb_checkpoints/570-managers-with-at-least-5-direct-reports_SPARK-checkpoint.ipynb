{
 "cells": [
  {
   "cell_type": "code",
   "execution_count": 2,
   "id": "cefde7c3",
   "metadata": {},
   "outputs": [],
   "source": [
    "import pandas as pd\n",
    "d = {\"headers\": {\"Employee\": [\"id\", \"name\", \"department\", \"managerId\"]}, \"rows\": {\"Employee\": [[101, \"John\", \"A\", None],[102, \"Dan\", \"A\", 101], [103, \"James\", \"A\", 101], [104, \"Amy\", \"A\", 101], [105, \"Anne\", \"A\", 101], [106, \"Ron\", \"B\", 101]]}}\n",
    "pd.DataFrame(d['rows']['Employee'], columns=d['headers']['Employee']).to_csv(\"./Employee.txt\", index=None)"
   ]
  },
  {
   "cell_type": "code",
   "execution_count": 3,
   "id": "a394b4e6",
   "metadata": {},
   "outputs": [],
   "source": [
    "from pyspark.sql import SparkSession\n",
    "spark = SparkSession.builder.appName(\"570\").config(\"pyspark.sql.shuffle.partition\",\"4\").getOrCreate()"
   ]
  },
  {
   "cell_type": "code",
   "execution_count": 12,
   "id": "a91a279b",
   "metadata": {},
   "outputs": [
    {
     "name": "stdout",
     "output_type": "stream",
     "text": [
      "+---+-----+----------+---------+\n",
      "| id| name|department|managerId|\n",
      "+---+-----+----------+---------+\n",
      "|101| John|         A|     null|\n",
      "|102|  Dan|         A|      101|\n",
      "|103|James|         A|      101|\n",
      "|104|  Amy|         A|      101|\n",
      "|105| Anne|         A|      101|\n",
      "|106|  Ron|         B|      101|\n",
      "+---+-----+----------+---------+\n",
      "\n"
     ]
    }
   ],
   "source": [
    "e = spark.read.option(\"header\", True).csv(\"./Employee.txt\")\n",
    "e = e.withColumn(\"id\", e.id.cast('int')).withColumn(\"managerId\", e.managerId.cast('int'))\n",
    "e.show()"
   ]
  },
  {
   "cell_type": "markdown",
   "id": "b00de5f4",
   "metadata": {},
   "source": [
    "Write an SQL query to report the managers with at least five direct reports.\n",
    "\n",
    "Return the result table in any order.\n",
    "\n",
    "The query result format is in the following example."
   ]
  },
  {
   "cell_type": "code",
   "execution_count": 13,
   "id": "a3b7f506",
   "metadata": {},
   "outputs": [],
   "source": [
    "def addAlias(df, n):\n",
    "    for i in df.columns:\n",
    "        df=df.withColumnRenamed(i, f'{i}_{n}')\n",
    "    return df\n",
    "\n",
    "e1 = addAlias(e,1)"
   ]
  },
  {
   "cell_type": "code",
   "execution_count": 15,
   "id": "f93e30d3",
   "metadata": {},
   "outputs": [
    {
     "name": "stdout",
     "output_type": "stream",
     "text": [
      "+---+----+---+\n",
      "| id|name|cnt|\n",
      "+---+----+---+\n",
      "|101|John|  5|\n",
      "+---+----+---+\n",
      "\n"
     ]
    }
   ],
   "source": [
    "e.join(e1, e.id == e1.managerId_1, \"leftouter\").select(\"id\",\"name\", \"id_1\").groupBy(\"id\",\"name\").count().withColumnRenamed(\"count\", \"cnt\").where(\"cnt>=5\").show()"
   ]
  }
 ],
 "metadata": {
  "kernelspec": {
   "display_name": "Python 3 (ipykernel)",
   "language": "python",
   "name": "python3"
  },
  "language_info": {
   "codemirror_mode": {
    "name": "ipython",
    "version": 3
   },
   "file_extension": ".py",
   "mimetype": "text/x-python",
   "name": "python",
   "nbconvert_exporter": "python",
   "pygments_lexer": "ipython3",
   "version": "3.9.7"
  }
 },
 "nbformat": 4,
 "nbformat_minor": 5
}
