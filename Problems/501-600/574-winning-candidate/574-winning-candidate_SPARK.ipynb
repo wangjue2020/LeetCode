{
 "cells": [
  {
   "cell_type": "code",
   "execution_count": 5,
   "id": "a9b72b7e",
   "metadata": {},
   "outputs": [],
   "source": [
    "import pandas as pd\n",
    "d = {\"headers\":{\"Candidate\":[\"id\",\"name\"],\"Vote\":[\"id\",\"candidateId\"]},\"rows\":{\"Candidate\":[[1,\"A\"],[2,\"B\"],[3,\"C\"],[4,\"D\"],[5,\"E\"]],\"Vote\":[[1,2],[2,4],[3,3],[4,2],[5,5]]}}\n",
    "pd.DataFrame(d['rows']['Candidate'], columns=d['headers']['Candidate']).to_csv(\"./Candidate.txt\", index=None)\n",
    "pd.DataFrame(d['rows']['Vote'], columns=d['headers']['Vote']).to_csv(\"./Vote.txt\", index=None)"
   ]
  },
  {
   "cell_type": "code",
   "execution_count": 3,
   "id": "f6a3ea5d",
   "metadata": {},
   "outputs": [],
   "source": [
    "from pyspark.sql import SparkSession\n",
    "spark = SparkSession.builder.appName(\"574\").config(\"pyspark.sql.shuffle.partition\",\"4\").getOrCreate()"
   ]
  },
  {
   "cell_type": "code",
   "execution_count": 6,
   "id": "2d0e7c28",
   "metadata": {},
   "outputs": [
    {
     "name": "stdout",
     "output_type": "stream",
     "text": [
      "+---+----+\n",
      "| id|name|\n",
      "+---+----+\n",
      "|  1|   A|\n",
      "|  2|   B|\n",
      "|  3|   C|\n",
      "|  4|   D|\n",
      "|  5|   E|\n",
      "+---+----+\n",
      "\n",
      "+---+-----------+\n",
      "| id|candidateId|\n",
      "+---+-----------+\n",
      "|  1|          2|\n",
      "|  2|          4|\n",
      "|  3|          3|\n",
      "|  4|          2|\n",
      "|  5|          5|\n",
      "+---+-----------+\n",
      "\n"
     ]
    }
   ],
   "source": [
    "c = spark.read.option(\"header\", True).csv(\"./Candidate.txt\")\n",
    "v = spark.read.option(\"header\", True).csv(\"./Vote.txt\")\n",
    "# e = e.withColumn(\"id\", e.id.cast('int')).withColumn(\"managerId\", e.managerId.cast('int'))\n",
    "c.show()\n",
    "v.show()"
   ]
  },
  {
   "cell_type": "markdown",
   "id": "82e1356b",
   "metadata": {},
   "source": [
    "Write an SQL query to report the name of the winning candidate (i.e., the candidate who got the largest number of votes).\n",
    "\n",
    "The test cases are generated so that exactly one candidate wins the elections.\n",
    "\n",
    "The query result format is in the following example."
   ]
  },
  {
   "cell_type": "code",
   "execution_count": 7,
   "id": "c9a70d0a",
   "metadata": {},
   "outputs": [
    {
     "name": "stderr",
     "output_type": "stream",
     "text": [
      "                                                                                \r"
     ]
    },
    {
     "data": {
      "text/plain": [
       "Row(name='B')"
      ]
     },
     "execution_count": 7,
     "metadata": {},
     "output_type": "execute_result"
    }
   ],
   "source": [
    "votes = v.groupBy(\"candidateId\").count()\n",
    "c.join(votes, c.id==votes.candidateId, \"leftouter\").orderBy(\"count\", ascending=False).select(\"name\").first()"
   ]
  }
 ],
 "metadata": {
  "kernelspec": {
   "display_name": "Python 3 (ipykernel)",
   "language": "python",
   "name": "python3"
  },
  "language_info": {
   "codemirror_mode": {
    "name": "ipython",
    "version": 3
   },
   "file_extension": ".py",
   "mimetype": "text/x-python",
   "name": "python",
   "nbconvert_exporter": "python",
   "pygments_lexer": "ipython3",
   "version": "3.9.7"
  }
 },
 "nbformat": 4,
 "nbformat_minor": 5
}
