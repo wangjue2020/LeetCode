{
 "cells": [
  {
   "cell_type": "code",
   "execution_count": 1,
   "id": "22f3e10e",
   "metadata": {},
   "outputs": [],
   "source": [
    "import pandas as pd\n",
    "d = {\"headers\": {\"Trips\": [\"id\", \"client_id\", \"driver_id\", \"city_id\", \"status\", \"request_at\"], \"Users\": [\"users_id\", \"banned\", \"role\"]}, \"rows\": {\"Trips\": [[\"1\", \"1\", \"10\", \"1\", \"completed\", \"2013-10-01\"], [\"2\", \"2\", \"11\", \"1\", \"cancelled_by_driver\", \"2013-10-01\"], [\"3\", \"3\", \"12\", \"6\", \"completed\", \"2013-10-01\"], [\"4\", \"4\", \"13\", \"6\", \"cancelled_by_client\", \"2013-10-01\"], [\"5\", \"1\", \"10\", \"1\", \"completed\", \"2013-10-02\"], [\"6\", \"2\", \"11\", \"6\", \"completed\", \"2013-10-02\"], [\"7\", \"3\", \"12\", \"6\", \"completed\", \"2013-10-02\"], [\"8\", \"2\", \"12\", \"12\", \"completed\", \"2013-10-03\"], [\"9\", \"3\", \"10\", \"12\", \"completed\", \"2013-10-03\"], [\"10\", \"4\", \"13\", \"12\", \"cancelled_by_driver\", \"2013-10-03\"]], \"Users\": [[\"1\", \"No\", \"client\"], [\"2\", \"Yes\", \"client\"], [\"3\", \"No\", \"client\"], [\"4\", \"No\", \"client\"], [\"10\", \"No\", \"driver\"], [\"11\", \"No\", \"driver\"], [\"12\", \"No\", \"driver\"], [\"13\", \"No\", \"driver\"]]}}"
   ]
  },
  {
   "cell_type": "code",
   "execution_count": 6,
   "id": "84bb6775",
   "metadata": {},
   "outputs": [],
   "source": [
    "pd.DataFrame(d['rows']['Trips'], columns=d['headers']['Trips']).to_csv(\"./Trips.txt\", index=None)\n",
    "pd.DataFrame(d['rows']['Users'], columns=d['headers']['Users']).to_csv(\"./Users.txt\", index=None)"
   ]
  },
  {
   "cell_type": "code",
   "execution_count": 8,
   "id": "c964ce2f",
   "metadata": {},
   "outputs": [],
   "source": [
    "from pyspark.sql import SparkSession\n",
    "spark = SparkSession.builder.appName(\"trips and users\").config(\"pyspark.sql.shuffle.partition\", \"4\").getOrCreate()"
   ]
  },
  {
   "cell_type": "code",
   "execution_count": 9,
   "id": "de2e2e69",
   "metadata": {},
   "outputs": [
    {
     "name": "stderr",
     "output_type": "stream",
     "text": [
      "                                                                                \r"
     ]
    },
    {
     "name": "stdout",
     "output_type": "stream",
     "text": [
      "+---+---------+---------+-------+-------------------+----------+\n",
      "| id|client_id|driver_id|city_id|             status|request_at|\n",
      "+---+---------+---------+-------+-------------------+----------+\n",
      "|  1|        1|       10|      1|          completed|2013-10-01|\n",
      "|  2|        2|       11|      1|cancelled_by_driver|2013-10-01|\n",
      "|  3|        3|       12|      6|          completed|2013-10-01|\n",
      "|  4|        4|       13|      6|cancelled_by_client|2013-10-01|\n",
      "|  5|        1|       10|      1|          completed|2013-10-02|\n",
      "|  6|        2|       11|      6|          completed|2013-10-02|\n",
      "|  7|        3|       12|      6|          completed|2013-10-02|\n",
      "|  8|        2|       12|     12|          completed|2013-10-03|\n",
      "|  9|        3|       10|     12|          completed|2013-10-03|\n",
      "| 10|        4|       13|     12|cancelled_by_driver|2013-10-03|\n",
      "+---+---------+---------+-------+-------------------+----------+\n",
      "\n",
      "+--------+------+------+\n",
      "|users_id|banned|  role|\n",
      "+--------+------+------+\n",
      "|       1|    No|client|\n",
      "|       2|   Yes|client|\n",
      "|       3|    No|client|\n",
      "|       4|    No|client|\n",
      "|      10|    No|driver|\n",
      "|      11|    No|driver|\n",
      "|      12|    No|driver|\n",
      "|      13|    No|driver|\n",
      "+--------+------+------+\n",
      "\n"
     ]
    }
   ],
   "source": [
    "t = spark.read.option(\"header\", True).csv(\"./Trips.txt\")\n",
    "u = spark.read.option(\"header\", True).csv(\"./Users.txt\")\n",
    "t.show()\n",
    "u.show()"
   ]
  },
  {
   "cell_type": "markdown",
   "id": "bc7d2ff3",
   "metadata": {},
   "source": [
    "The cancellation rate is computed by dividing the number of canceled (by client or driver) requests with unbanned users by the total number of requests with unbanned users on that day.\n",
    "\n",
    "Write a SQL query to find the cancellation rate of requests with unbanned users (both client and driver must not be banned) each day between \"2013-10-01\" and \"2013-10-03\". Round Cancellation Rate to two decimal points.\n",
    "\n",
    "Return the result table in any order.\n",
    "\n",
    "The query result format is in the following example."
   ]
  },
  {
   "cell_type": "code",
   "execution_count": 48,
   "id": "feaa0f5d",
   "metadata": {},
   "outputs": [
    {
     "name": "stdout",
     "output_type": "stream",
     "text": [
      "root\n",
      " |-- id: string (nullable = true)\n",
      " |-- client_id: string (nullable = true)\n",
      " |-- driver_id: string (nullable = true)\n",
      " |-- city_id: string (nullable = true)\n",
      " |-- status: string (nullable = true)\n",
      " |-- request_at: date (nullable = true)\n",
      "\n",
      "root\n",
      " |-- id: string (nullable = true)\n",
      " |-- client_id: string (nullable = true)\n",
      " |-- driver_id: string (nullable = true)\n",
      " |-- city_id: string (nullable = true)\n",
      " |-- status: string (nullable = true)\n",
      " |-- request_at: date (nullable = true)\n",
      "\n"
     ]
    }
   ],
   "source": [
    "from pyspark.sql.functions import to_date, lit, col\n",
    "t.printSchema()\n",
    "t = t.withColumn(\"request_at\", t.request_at.cast('date'))\n",
    "t.printSchema()"
   ]
  },
  {
   "cell_type": "code",
   "execution_count": 105,
   "id": "9a5fa73c",
   "metadata": {},
   "outputs": [
    {
     "name": "stdout",
     "output_type": "stream",
     "text": [
      "+----------+-----------------+\n",
      "|request_at|Cancellation Rate|\n",
      "+----------+-----------------+\n",
      "|2013-10-01|             0.33|\n",
      "|2013-10-02|              0.0|\n",
      "|2013-10-03|              0.5|\n",
      "+----------+-----------------+\n",
      "\n"
     ]
    }
   ],
   "source": [
    "import pyspark.sql.functions as F\n",
    "def addAlias(df, n):\n",
    "    for i in df.columns:\n",
    "        df = df.withColumnRenamed(i, f'{i}_{n}')\n",
    "    return df\n",
    "u1 = addAlias(u,1)\n",
    "t1 = t.join(u, t.client_id==u.users_id)\\\n",
    "    .where(u.banned=='No')\\\n",
    "    .select(\"*\")\\\n",
    "    .withColumnRenamed(\"users_id\",\"users_id_1\")\\\n",
    "    .join(u1, u1.users_id_1 == t.driver_id)\\\n",
    "    .where(u1.banned_1=='No')\\\n",
    "    .where(t.request_at.between(to_date(lit('2013-10-01')),to_date(lit('2013-10-03'))))\n",
    "t2 = t1.where(t1.status!='completed').groupBy('request_at').count().withColumnRenamed(\"count\", \"cancell_count\")\n",
    "t3 = t1.groupBy('request_at').count().withColumnRenamed(\"count\", \"total_count\")\n",
    "t3.join(t2, \"request_at\", \"left_outer\").na.fill(0)\\\n",
    "    .select(\"request_at\", F.round(col('cancell_count')/ col('total_count'), 2).alias(\"Cancellation Rate\"))\\\n",
    "    .orderBy(\"request_at\", ascending=True).show()\n",
    "\n"
   ]
  },
  {
   "cell_type": "code",
   "execution_count": 102,
   "id": "ded6df2e",
   "metadata": {},
   "outputs": [
    {
     "name": "stdout",
     "output_type": "stream",
     "text": [
      "+----------+-----------------+\n",
      "|       Day|Cancellation_Rate|\n",
      "+----------+-----------------+\n",
      "|2013-10-01|             0.33|\n",
      "|2013-10-03|              0.5|\n",
      "|2013-10-02|              0.0|\n",
      "+----------+-----------------+\n",
      "\n"
     ]
    }
   ],
   "source": [
    "u.createOrReplaceTempView(\"Users\")\n",
    "t.createOrReplaceTempView(\"Trips\")\n",
    "spark.sql(\"select request_at as Day, round(sum(case when status='cancelled_by_driver' or status='cancelled_by_client' then 1 else 0 end) / count(id),2) as Cancellation_Rate from trips t left join users u1 on t.client_id=u1.users_id left join users u2 on t.driver_id=u2.users_id where u1.banned='No' and u2.banned='No' and request_at between date('2013-10-01') and date('2013-10-03') group by request_at \").show()"
   ]
  }
 ],
 "metadata": {
  "kernelspec": {
   "display_name": "Python 3 (ipykernel)",
   "language": "python",
   "name": "python3"
  },
  "language_info": {
   "codemirror_mode": {
    "name": "ipython",
    "version": 3
   },
   "file_extension": ".py",
   "mimetype": "text/x-python",
   "name": "python",
   "nbconvert_exporter": "python",
   "pygments_lexer": "ipython3",
   "version": "3.9.7"
  }
 },
 "nbformat": 4,
 "nbformat_minor": 5
}
