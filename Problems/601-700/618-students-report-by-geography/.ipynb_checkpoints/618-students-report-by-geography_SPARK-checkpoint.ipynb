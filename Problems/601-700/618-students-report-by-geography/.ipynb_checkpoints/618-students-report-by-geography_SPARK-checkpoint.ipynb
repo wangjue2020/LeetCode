{
 "cells": [
  {
   "cell_type": "code",
   "execution_count": 1,
   "id": "8a2902f0",
   "metadata": {},
   "outputs": [],
   "source": [
    "import pandas as pd\n",
    "d = {\"headers\":{\"Student\":[\"name\",\"continent\"]},\"rows\":{\"Student\":[[\"Jane\",\"America\"],[\"Pascal\",\"Europe\"],[\"Xi\",\"Asia\"],[\"Jack\",\"America\"]]}}\n",
    "pd.DataFrame(d['rows']['Student'], columns=d['headers']['Student']).to_csv(\"./Student.txt\", index=None)"
   ]
  },
  {
   "cell_type": "code",
   "execution_count": 2,
   "id": "2539869e",
   "metadata": {},
   "outputs": [],
   "source": [
    "from pyspark.sql import SparkSession\n",
    "spark = SparkSession.builder.appName(\"student report by geography\").config(\"pyspark.sql.shuffle.partition\",\"4\").getOrCreate()"
   ]
  },
  {
   "cell_type": "code",
   "execution_count": 3,
   "id": "267f1652",
   "metadata": {},
   "outputs": [
    {
     "name": "stderr",
     "output_type": "stream",
     "text": [
      "                                                                                \r"
     ]
    },
    {
     "name": "stdout",
     "output_type": "stream",
     "text": [
      "+------+---------+\n",
      "|  name|continent|\n",
      "+------+---------+\n",
      "|  Jane|  America|\n",
      "|Pascal|   Europe|\n",
      "|    Xi|     Asia|\n",
      "|  Jack|  America|\n",
      "+------+---------+\n",
      "\n"
     ]
    }
   ],
   "source": [
    "s = spark.read.option(\"header\", True).csv(\"./Student.txt\")\n",
    "s.show()"
   ]
  },
  {
   "cell_type": "markdown",
   "id": "152a65e5",
   "metadata": {},
   "source": [
    "A school has students from Asia, Europe, and America.\n",
    "\n",
    "Write an SQL query to pivot the continent column in the Student table so that each name is sorted alphabetically and displayed underneath its corresponding continent. The output headers should be America, Asia, and Europe, respectively.\n",
    "\n",
    "The test cases are generated so that the student number from America is not less than either Asia or Europe.\n",
    "\n",
    "The query result format is in the following example."
   ]
  },
  {
   "cell_type": "code",
   "execution_count": 7,
   "id": "fbccc795",
   "metadata": {},
   "outputs": [
    {
     "name": "stderr",
     "output_type": "stream",
     "text": [
      "22/07/10 22:54:32 WARN WindowExec: No Partition Defined for Window operation! Moving all data to a single partition, this can cause serious performance degradation.\n",
      "22/07/10 22:54:32 WARN WindowExec: No Partition Defined for Window operation! Moving all data to a single partition, this can cause serious performance degradation.\n",
      "22/07/10 22:54:32 WARN WindowExec: No Partition Defined for Window operation! Moving all data to a single partition, this can cause serious performance degradation.\n",
      "                                                                                \r"
     ]
    },
    {
     "name": "stdout",
     "output_type": "stream",
     "text": [
      "+-------+----+------+\n",
      "|America|Asia|Europe|\n",
      "+-------+----+------+\n",
      "|   Jack|  Xi|Pascal|\n",
      "|   Jane|null|  null|\n",
      "+-------+----+------+\n",
      "\n"
     ]
    }
   ],
   "source": [
    "from pyspark.sql.window import Window\n",
    "from pyspark.sql.functions import row_number\n",
    "\n",
    "Window_spec = Window.orderBy(\"name\")\n",
    "a = s.where(\"continent = 'America'\").select(s.name.alias(\"America\"), row_number().over(Window_spec).alias(\"rn\"))\n",
    "b = s.where(\"continent = 'Asia'\").select(s.name.alias(\"Asia\"), row_number().over(Window_spec).alias(\"rn\"))\n",
    "c = s.where(\"continent = 'Europe'\").select(s.name.alias(\"Europe\"), row_number().over(Window_spec).alias(\"rn\"))\n",
    "\n",
    "a.join(b, \"rn\", \"leftouter\").join(c, \"rn\", \"leftouter\").select(\"America\", \"Asia\", 'Europe').show()"
   ]
  }
 ],
 "metadata": {
  "kernelspec": {
   "display_name": "Python 3 (ipykernel)",
   "language": "python",
   "name": "python3"
  },
  "language_info": {
   "codemirror_mode": {
    "name": "ipython",
    "version": 3
   },
   "file_extension": ".py",
   "mimetype": "text/x-python",
   "name": "python",
   "nbconvert_exporter": "python",
   "pygments_lexer": "ipython3",
   "version": "3.9.7"
  }
 },
 "nbformat": 4,
 "nbformat_minor": 5
}
