{
 "cells": [
  {
   "cell_type": "code",
   "execution_count": 2,
   "id": "35eed66f",
   "metadata": {},
   "outputs": [],
   "source": [
    "import pandas as pd\n",
    "d = {\"headers\":{\"Salary\":[\"id\",\"employee_id\",\"amount\",\"pay_date\"],\"Employee\":[\"employee_id\",\"department_id\"]},\"rows\":{\"Salary\":[[1,1,9000,\"2017/03/31\"],[2,2,6000,\"2017/03/31\"],[3,3,10000,\"2017/03/31\"],[4,1,7000,\"2017/02/28\"],[5,2,6000,\"2017/02/28\"],[6,3,8000,\"2017/02/28\"]],\"Employee\":[[1,1],[2,2],[3,2]]}}\n",
    "pd.DataFrame(d['rows']['Employee'], columns = d['headers']['Employee']).to_csv(\"./Employee.txt\", index=None)\n",
    "pd.DataFrame(d['rows']['Salary'], columns=d['headers']['Salary']).to_csv(\"./Salary.txt\", index=None)"
   ]
  },
  {
   "cell_type": "code",
   "execution_count": 1,
   "id": "00a07284",
   "metadata": {},
   "outputs": [],
   "source": [
    "from pyspark.sql import SparkSession\n",
    "spark = SparkSession.builder.appName(\"students report by geography\").config(\"pyspark.sql.shuffle.partition\", \"4\").getOrCreate()"
   ]
  },
  {
   "cell_type": "code",
   "execution_count": 42,
   "id": "c0d62e51",
   "metadata": {},
   "outputs": [
    {
     "name": "stdout",
     "output_type": "stream",
     "text": [
      "+-----------+-------------+\n",
      "|employee_id|department_id|\n",
      "+-----------+-------------+\n",
      "|          1|            1|\n",
      "|          2|            2|\n",
      "|          3|            2|\n",
      "+-----------+-------------+\n",
      "\n",
      "+---+-----------+------+----------+\n",
      "| id|employee_id|amount|  pay_date|\n",
      "+---+-----------+------+----------+\n",
      "|  1|          1|  9000|2017/03/31|\n",
      "|  2|          2|  6000|2017/03/31|\n",
      "|  3|          3| 10000|2017/03/31|\n",
      "|  4|          1|  7000|2017/02/28|\n",
      "|  5|          2|  6000|2017/02/28|\n",
      "|  6|          3|  8000|2017/02/28|\n",
      "+---+-----------+------+----------+\n",
      "\n"
     ]
    }
   ],
   "source": [
    "from pyspark.sql.functions import date_format, col, to_date, when\n",
    "e = spark.read.option(\"header\",True).csv(\"./Employee.txt\")\n",
    "s = spark.read.option(\"header\", True).csv(\"./Salary.txt\")\n",
    "e.show()\n",
    "s.show()"
   ]
  },
  {
   "cell_type": "code",
   "execution_count": 43,
   "id": "56c3b108",
   "metadata": {},
   "outputs": [
    {
     "name": "stdout",
     "output_type": "stream",
     "text": [
      "+-----------+-------------+\n",
      "|employee_id|department_id|\n",
      "+-----------+-------------+\n",
      "|          1|            1|\n",
      "|          2|            2|\n",
      "|          3|            2|\n",
      "+-----------+-------------+\n",
      "\n",
      "+---+-----------+------+----------+\n",
      "| id|employee_id|amount|  pay_date|\n",
      "+---+-----------+------+----------+\n",
      "|  1|          1|  9000|2017-03-31|\n",
      "|  2|          2|  6000|2017-03-31|\n",
      "|  3|          3| 10000|2017-03-31|\n",
      "|  4|          1|  7000|2017-02-28|\n",
      "|  5|          2|  6000|2017-02-28|\n",
      "|  6|          3|  8000|2017-02-28|\n",
      "+---+-----------+------+----------+\n",
      "\n"
     ]
    }
   ],
   "source": [
    "e = e.withColumn(\"employee_id\", e.employee_id.cast('int')).withColumn(\"department_id\", e.department_id.cast('int'))\n",
    "s = s.withColumn(\"id\", s.id.cast('int')).withColumn(\"amount\", s.amount.cast('int')).withColumn(\"employee_id\", s.employee_id.cast('int')).withColumn(\"pay_date\", to_date(\"pay_date\", \"yyyy/MM/dd\"))\n",
    "e.show()\n",
    "s.show()"
   ]
  },
  {
   "cell_type": "markdown",
   "id": "a40f4f30",
   "metadata": {},
   "source": [
    "Write an SQL query to report the comparison result (higher/lower/same) of the average salary of employees in a department to the company's average salary.\n",
    "\n",
    "Return the result table in any order.\n",
    "\n",
    "The query result format is in the following example."
   ]
  },
  {
   "cell_type": "code",
   "execution_count": 47,
   "id": "dc91778f",
   "metadata": {},
   "outputs": [
    {
     "name": "stdout",
     "output_type": "stream",
     "text": [
      "+---------+-------------+----------+\n",
      "|pay_month|department_id|comparison|\n",
      "+---------+-------------+----------+\n",
      "|  2017-02|            1|      same|\n",
      "|  2017-02|            2|      same|\n",
      "|  2017-03|            1|    higher|\n",
      "|  2017-03|            2|     lower|\n",
      "+---------+-------------+----------+\n",
      "\n"
     ]
    }
   ],
   "source": [
    "\n",
    "company_avg = s.select(\"*\", date_format(\"pay_date\", \"yyy-MM\").alias(\"pay_month\")).groupBy(\"pay_month\").avg(\"amount\").withColumnRenamed(\"avg(amount)\", \"company_avg\")\n",
    "e.join(s,\"employee_id\").select(\"*\", date_format(\"pay_date\", \"yyy-MM\").alias(\"pay_month\")).groupBy([\"pay_month\",\"department_id\"]).avg(\"amount\").withColumnRenamed(\"avg(amount)\", \"department_avg\").join(company_avg, \"pay_month\").withColumn(\"Comparison\", when(col(\"department_avg\") == col(\"company_avg\"), \"same\").when(col(\"department_avg\") <= col(\"company_avg\"), \"lower\").otherwise(\"higher\")).select(\"pay_month\", \"department_id\", \"comparison\").show()"
   ]
  }
 ],
 "metadata": {
  "kernelspec": {
   "display_name": "Python 3 (ipykernel)",
   "language": "python",
   "name": "python3"
  },
  "language_info": {
   "codemirror_mode": {
    "name": "ipython",
    "version": 3
   },
   "file_extension": ".py",
   "mimetype": "text/x-python",
   "name": "python",
   "nbconvert_exporter": "python",
   "pygments_lexer": "ipython3",
   "version": "3.9.7"
  }
 },
 "nbformat": 4,
 "nbformat_minor": 5
}
